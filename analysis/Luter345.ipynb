{
 "cells": [
  {
   "cell_type": "code",
   "metadata": {
    "tags": [],
    "jupyter": {
     "is_executing": true
    }
   },
   "source": [
    "import ROOT as root\n",
    "import numpy as np\n",
    "import random\n",
    "from timer import Timer\n",
    "\n",
    "t = Timer()\n",
    "t.start()"
   ],
   "outputs": [],
   "execution_count": null
  },
  {
   "cell_type": "code",
   "metadata": {
    "tags": [],
    "ExecuteTime": {
     "end_time": "2024-10-24T20:58:54.183567Z",
     "start_time": "2024-10-24T20:58:53.885619Z"
    }
   },
   "source": [
    "fileName = \"data/AnaBarMC_7001.root\"\n",
    "treeName = \"T\"\n",
    "\n",
    "f = root.TFile(fileName)\n",
    "myTree = f.Get(treeName)\n",
    "\n",
    "myTree.Print()\n",
    "\n",
    "root.EnableImplicitMT()\n",
    "d = root.RDataFrame(treeName,fileName)\n",
    "\n",
    "myGeometryData = myTree.GetUserInfo().FindObject(\"myGeometryData\")"
   ],
   "outputs": [
    {
     "name": "stdout",
     "output_type": "stream",
     "text": [
      "******************************************************************************\n",
      "*Tree    :T         : Output Tree                                            *\n",
      "*Entries :     2504 : Total =      1504490465 bytes  File  Size =    8833235 *\n",
      "*        :          : Tree compression factor = 171.39                       *\n",
      "******************************************************************************\n",
      "*Br    0 :Prim_E    : Prim_E/F                                               *\n",
      "*Entries :     2504 : Total  Size=      10575 bytes  File Size  =       9040 *\n",
      "*Baskets :        1 : Basket Size=      32000 bytes  Compression=   1.12     *\n",
      "*............................................................................*\n",
      "*Br    1 :Prim_X    : Prim_X/F                                               *\n",
      "*Entries :     2504 : Total  Size=      10575 bytes  File Size  =       9349 *\n",
      "*Baskets :        1 : Basket Size=      32000 bytes  Compression=   1.08     *\n",
      "*............................................................................*\n",
      "*Br    2 :Prim_Y    : Prim_Y/F                                               *\n",
      "*Entries :     2504 : Total  Size=      10575 bytes  File Size  =        156 *\n",
      "*Baskets :        1 : Basket Size=      32000 bytes  Compression=  64.65     *\n",
      "*............................................................................*\n",
      "*Br    3 :Prim_Z    : Prim_Z/F                                               *\n",
      "*Entries :     2504 : Total  Size=      10575 bytes  File Size  =       9383 *\n",
      "*Baskets :        1 : Basket Size=      32000 bytes  Compression=   1.07     *\n",
      "*............................................................................*\n",
      "*Br    4 :Prim_Th   : Prim_Th/F                                              *\n",
      "*Entries :     2504 : Total  Size=      10580 bytes  File Size  =       8783 *\n",
      "*Baskets :        1 : Basket Size=      32000 bytes  Compression=   1.15     *\n",
      "*............................................................................*\n",
      "*Br    5 :Prim_Ph   : Prim_Ph/F                                              *\n",
      "*Entries :     2504 : Total  Size=      10580 bytes  File Size  =       8756 *\n",
      "*Baskets :        1 : Basket Size=      32000 bytes  Compression=   1.15     *\n",
      "*............................................................................*\n",
      "*Br    6 :Prim_pdg  : Prim_pdg/I                                             *\n",
      "*Entries :     2504 : Total  Size=      10585 bytes  File Size  =        157 *\n",
      "*Baskets :        1 : Basket Size=      32000 bytes  Compression=  64.25     *\n",
      "*............................................................................*\n",
      "*Br    7 :PMT_id    : PMT_id/I                                               *\n",
      "*Entries :     2504 : Total  Size=      10575 bytes  File Size  =       2213 *\n",
      "*Baskets :        1 : Basket Size=      32000 bytes  Compression=   4.56     *\n",
      "*............................................................................*\n",
      "*Br    8 :PMT_Nphotons : PMT_Nphotons[50000]/I                               *\n",
      "*Entries :     2504 : Total  Size=  501040731 bytes  File Size  =    2582919 *\n",
      "*Baskets :     2504 : Basket Size=      32000 bytes  Compression= 193.96     *\n",
      "*............................................................................*\n",
      "*Br    9 :PMT_Time  : PMT_Time[50000]/F                                      *\n",
      "*Entries :     2504 : Total  Size=  501030699 bytes  File Size  =    2666928 *\n",
      "*Baskets :     2504 : Basket Size=      32000 bytes  Compression= 187.85     *\n",
      "*............................................................................*\n",
      "*Br   10 :PMT_TimeOverThreshold : PMT_TimeOverThreshold[50000]/F             *\n",
      "*Entries :     2504 : Total  Size=  501063303 bytes  File Size  =    2680875 *\n",
      "*Baskets :     2504 : Basket Size=      32000 bytes  Compression= 186.88     *\n",
      "*............................................................................*\n",
      "*Br   11 :Detector_Nhits : Detector_Nhits/I                                  *\n",
      "*Entries :     2504 : Total  Size=      10615 bytes  File Size  =       3060 *\n",
      "*Baskets :        1 : Basket Size=      32000 bytes  Compression=   3.30     *\n",
      "*............................................................................*\n",
      "*Br   12 :Detector_pdg : Detector_pdg[Detector_Nhits]/I                      *\n",
      "*Entries :     2504 : Total  Size=     180077 bytes  File Size  =      18879 *\n",
      "*Baskets :        6 : Basket Size=      32000 bytes  Compression=   9.50     *\n",
      "*............................................................................*\n",
      "*Br   13 :Detector_id : Detector_id[Detector_Nhits]/I                        *\n",
      "*Entries :     2504 : Total  Size=     180067 bytes  File Size  =      16850 *\n",
      "*Baskets :        6 : Basket Size=      32000 bytes  Compression=  10.65     *\n",
      "*............................................................................*\n",
      "*Br   14 :Detector_x : Detector_x[Detector_Nhits]/F                          *\n",
      "*Entries :     2504 : Total  Size=     180064 bytes  File Size  =     156547 *\n",
      "*Baskets :        6 : Basket Size=      32000 bytes  Compression=   1.15     *\n",
      "*............................................................................*\n",
      "*Br   15 :Detector_y : Detector_y[Detector_Nhits]/F                          *\n",
      "*Entries :     2504 : Total  Size=     180064 bytes  File Size  =     150849 *\n",
      "*Baskets :        6 : Basket Size=      32000 bytes  Compression=   1.19     *\n",
      "*............................................................................*\n",
      "*Br   16 :Detector_z : Detector_z[Detector_Nhits]/F                          *\n",
      "*Entries :     2504 : Total  Size=     180064 bytes  File Size  =     158329 *\n",
      "*Baskets :        6 : Basket Size=      32000 bytes  Compression=   1.13     *\n",
      "*............................................................................*\n",
      "*Br   17 :Detector_t : Detector_t[Detector_Nhits]/F                          *\n",
      "*Entries :     2504 : Total  Size=     180064 bytes  File Size  =     139352 *\n",
      "*Baskets :        6 : Basket Size=      32000 bytes  Compression=   1.29     *\n",
      "*............................................................................*\n",
      "*Br   18 :Detector_Ed : Detector_Ed[Detector_Nhits]/F                        *\n",
      "*Entries :     2504 : Total  Size=     180074 bytes  File Size  =     155061 *\n",
      "*Baskets :        6 : Basket Size=      32000 bytes  Compression=   1.16     *\n",
      "*............................................................................*\n"
     ]
    }
   ],
   "execution_count": 2
  },
  {
   "cell_type": "code",
   "metadata": {
    "tags": [],
    "ExecuteTime": {
     "end_time": "2024-10-24T20:58:54.309047Z",
     "start_time": "2024-10-24T20:58:54.184239Z"
    }
   },
   "source": [
    "#myGeometryData.Print()\n",
    "print(myGeometryData[0])\n",
    "print(myGeometryData[0][0])\n",
    "print(myGeometryData[0][1])\n",
    "print(myGeometryData[0][2])\n",
    "print(myGeometryData[0][3])\n",
    "print(myGeometryData[1][0])\n",
    "print(myGeometryData[1][1])\n",
    "print(myGeometryData[1][2])\n",
    "print(myGeometryData[1][3])\n",
    "print(len(myGeometryData))\n",
    "type(myGeometryData)"
   ],
   "outputs": [
    {
     "name": "stdout",
     "output_type": "stream",
     "text": [
      "Name: TVectorT<double> Title: \n",
      "0.0\n",
      "450.0\n",
      "0.0\n",
      "-2.5\n",
      "1.0\n",
      "-52.0\n",
      "0.0\n",
      "-2.5\n",
      "2\n"
     ]
    },
    {
     "data": {
      "text/plain": [
       "<class cppyy.gbl.TList at 0x143e0e810>"
      ]
     },
     "execution_count": 3,
     "metadata": {},
     "output_type": "execute_result"
    }
   ],
   "execution_count": 3
  },
  {
   "cell_type": "code",
   "metadata": {
    "tags": [],
    "ExecuteTime": {
     "end_time": "2024-10-24T20:58:54.311879Z",
     "start_time": "2024-10-24T20:58:54.310221Z"
    }
   },
   "source": [],
   "outputs": [],
   "execution_count": 3
  },
  {
   "cell_type": "code",
   "metadata": {
    "ExecuteTime": {
     "end_time": "2024-10-24T20:58:54.574865Z",
     "start_time": "2024-10-24T20:58:54.312284Z"
    }
   },
   "source": [
    "root.gInterpreter.ProcessLine('#include \"AnalyseSignalsRDataFrameNoKE.h\"')"
   ],
   "outputs": [
    {
     "data": {
      "text/plain": [
       "0"
      ]
     },
     "execution_count": 4,
     "metadata": {},
     "output_type": "execute_result"
    }
   ],
   "execution_count": 4
  },
  {
   "cell_type": "code",
   "metadata": {
    "tags": [],
    "ExecuteTime": {
     "end_time": "2024-10-24T20:58:55.979804Z",
     "start_time": "2024-10-24T20:58:54.575557Z"
    }
   },
   "source": [
    "fdf = d.Define(\"trigger\", \"getTrigger(Detector_Nhits, &Detector_id[0])\") \\\n",
    "       .Define(\"fMass\", \"getMass(Prim_pdg)\") \\\n",
    "       .Define(\"fMomentum\",\"getMomentum(Prim_E,fMass)\") \\\n",
    "       .Define(\"fPx\", \"getPx(fMomentum,Prim_Th,Prim_Ph)\") \\\n",
    "       .Define(\"fPy\", \"getPy(fMomentum,Prim_Th,Prim_Ph)\") \\\n",
    "       .Define(\"fPz\", \"getPz(fMomentum,Prim_Th,Prim_Ph)\") \\\n",
    "       .Define(\"fNewTheta\", \"getNewTheta(fMomentum,fPy)\") \\\n",
    "       .Define(\"fNewPhi\", \"getNewPhi(fMomentum,fPx,fPz)\") \\\n",
    "       .Define(\"trigger2\", \"getTrigger2(trigger,fNewTheta)\") \\\n",
    "       .Define(\"trigger3\", \"getTrigger3(trigger,fNewTheta)\") \\\n",
    "       .Define(\"fingerXVec\",\"getFingerXVec(trigger,Detector_Nhits,&Detector_id[0],&Detector_pdg[0],&Detector_x[0],Prim_pdg)\") \\\n",
    "       .Define(\"fingerYVec\",\"getFingerYVec(trigger,Detector_Nhits,&Detector_id[0],&Detector_pdg[0],&Detector_y[0],Prim_pdg)\") \\\n",
    "       .Define(\"fingerZVec\",\"getFingerZVec(trigger,Detector_Nhits,&Detector_id[0],&Detector_pdg[0],&Detector_z[0],Prim_pdg)\") \\\n",
    "       .Define(\"fingerTVec\",\"getFingerTVec(trigger,Detector_Nhits,&Detector_id[0],&Detector_pdg[0],&Detector_t[0],Prim_pdg)\") \\\n",
    "       .Define(\"anaBarXVec\",\"getAnaBarXVec(trigger,Detector_Nhits,&Detector_id[0],&Detector_pdg[0],&Detector_x[0],Prim_pdg)\") \\\n",
    "       .Define(\"anaBarYVec\",\"getAnaBarYVec(trigger,Detector_Nhits,&Detector_id[0],&Detector_pdg[0],&Detector_y[0],Prim_pdg)\") \\\n",
    "       .Define(\"anaBarZVec\",\"getAnaBarZVec(trigger,Detector_Nhits,&Detector_id[0],&Detector_pdg[0],&Detector_z[0],Prim_pdg)\") \\\n",
    "       .Define(\"anaBarTVec\",\"getAnaBarTVec(trigger,Detector_Nhits,&Detector_id[0],&Detector_pdg[0],&Detector_t[0],Prim_pdg)\") \\\n",
    "       .Define(\"fingerID\",\"getFingerID(trigger,Detector_Nhits,&Detector_id[0],&Detector_pdg[0])\") \\\n",
    "       .Define(\"fingerPDG\",\"getFingerPDG(trigger,Detector_Nhits,&Detector_id[0],&Detector_pdg[0])\") \\\n",
    "       .Define(\"anaBarID\",\"getAnaBarID(trigger,Detector_Nhits,&Detector_id[0],&Detector_pdg[0])\") \\\n",
    "       .Define(\"anaBarPDG\",\"getAnaBarPDG(trigger,Detector_Nhits,&Detector_id[0],&Detector_pdg[0])\") \\\n",
    "       .Define(\"anaBarPMTID\",\"getAnaBarPMTID(trigger,&PMT_Nphotons[0])\") \\\n",
    "       .Define(\"fingerPMTID\",\"getFingerPMTID(trigger,&PMT_Nphotons[0])\") \\\n",
    "       .Define(\"fingerPMTNPhotons\",\"getFingerPMTNPhotons(trigger,&PMT_Nphotons[0])\") \\\n",
    "       .Define(\"anaBarPMTNPhotons\",\"getAnaBarPMTNPhotons(trigger,&PMT_Nphotons[0])\") \\\n",
    "       .Define(\"anaBarXPMT\",\"getAnaBarXPMT(trigger,&PMT_Nphotons[0],&PMT_Time[0])\") \\\n",
    "       .Define(\"anaBarZPMT\",\"getAnaBarZPMT(trigger,&PMT_Nphotons[0],&PMT_Time[0])\") \\\n",
    "       .Define(\"anaBarPXPMT\",\"getAnaBarPXPMT(trigger,&PMT_Nphotons[0],&PMT_Time[0])\") \\\n",
    "       .Define(\"anaBarPZPMT\",\"getAnaBarPZPMT(trigger,&PMT_Nphotons[0],&PMT_Time[0])\") \\\n",
    "       .Define(\"fingerPMTTime\",\"getFingerPMTTime(trigger,&PMT_Nphotons[0],&PMT_Time[0])\") \\\n",
    "       .Define(\"anaBarPMTTime\",\"getAnaBarPMTTime(trigger,&PMT_Nphotons[0],&PMT_Time[0])\") \\\n",
    "       .Define(\"anaBarPMTTimeOverThreshold\",\"getAnaBarPMTTimeOverThreshold(trigger,&PMT_Nphotons[0],&PMT_TimeOverThreshold[0])\") \\\n",
    "       .Define(\"anaBarPMTTimeTop\",\"getAnaBarPMTTimeTop(trigger,&PMT_Nphotons[0],&PMT_Time[0])\") \\\n",
    "       .Define(\"anaBarPMTTimeBottom\",\"getAnaBarPMTTimeBottom(trigger,&PMT_Nphotons[0],&PMT_Time[0])\") \\\n",
    "       .Define(\"anaBarNPhotonsTotal\",\"getAnaBarNPhotonsTotal(trigger,&PMT_Nphotons[0])\") \\\n",
    "       .Define(\"imult\",\"getAnaBarMult(trigger,&PMT_Nphotons[0])\") \\\n",
    "       .Define(\"fingerEd\",\"getFingerEd(trigger,fNewTheta,Detector_Nhits,Prim_pdg,&Detector_id[0],&Detector_pdg[0],&Detector_Ed[0])\") \\\n",
    "       .Define(\"anaBarEd\",\"getAnaBarEd(trigger,fNewTheta,Detector_Nhits,Prim_pdg,&Detector_id[0],&Detector_pdg[0],&Detector_Ed[0])\") \\\n",
    "       .Define(\"anaBarEdTotal\",\"getAnaBarEdTotal(trigger,fNewTheta,Detector_Nhits,Prim_pdg,&Detector_id[0],&Detector_pdg[0],&Detector_Ed[0])\")\n",
    "\n",
    "triggers = fdf.Filter(\"trigger==true\").Count()\n",
    "print('{} entries passed trigger'.format(triggers.GetValue()))\n",
    "\n",
    "fdft = fdf.Filter(\"trigger==true\")"
   ],
   "outputs": [
    {
     "name": "stdout",
     "output_type": "stream",
     "text": [
      "1664 entries passed trigger\n"
     ]
    }
   ],
   "execution_count": 5
  },
  {
   "cell_type": "code",
   "metadata": {
    "tags": [],
    "ExecuteTime": {
     "end_time": "2024-10-24T20:58:56.816951Z",
     "start_time": "2024-10-24T20:58:55.980649Z"
    }
   },
   "source": [
    "# Canvas 1\n",
    "hFingerX = fdft.Histo1D((\"h1\", \"X1\", 100, -200.0, 200.0),'fingerXVec')\n",
    "hFingerY = fdft.Histo1D((\"h2\", \"Y1\", 100, -200.0, 200.0),'fingerYVec')\n",
    "hFingerZ = fdft.Histo1D((\"h3\", \"Z1\", 100, -200.0, 200.0),'fingerZVec')\n",
    "hFingerT = fdft.Histo1D((\"h4\", \"T1\", 100, -5.0, 15.0),'fingerTVec')\n",
    "\n",
    "c1 = root.TCanvas(\"c1\",\"c1\",800,800)\n",
    "c1.Divide(2,2,0.01,0.01,0)\n",
    "\n",
    "c1.cd(1)\n",
    "hFingerX.Draw()\n",
    "c1.cd(2)\n",
    "hFingerY.Draw()\n",
    "c1.cd(3)\n",
    "hFingerZ.Draw()\n",
    "c1.cd(4)\n",
    "hFingerT.Draw()\n",
    "\n",
    "c1.Draw()\n",
    "c1.Print(\"plots/c1.pdf\");"
   ],
   "outputs": [
    {
     "ename": "KeyboardInterrupt",
     "evalue": "TH1D& ROOT::RDF::RResultPtr<TH1D>::operator*() =>\n    KeyboardInterrupt: ",
     "output_type": "error",
     "traceback": [
      "\u001B[0;31m---------------------------------------------------------------------------\u001B[0m",
      "\u001B[0;31mKeyboardInterrupt\u001B[0m                         Traceback (most recent call last)",
      "Cell \u001B[0;32mIn[6], line 11\u001B[0m\n\u001B[1;32m      8\u001B[0m c1\u001B[38;5;241m.\u001B[39mDivide(\u001B[38;5;241m2\u001B[39m,\u001B[38;5;241m2\u001B[39m,\u001B[38;5;241m0.01\u001B[39m,\u001B[38;5;241m0.01\u001B[39m,\u001B[38;5;241m0\u001B[39m)\n\u001B[1;32m     10\u001B[0m c1\u001B[38;5;241m.\u001B[39mcd(\u001B[38;5;241m1\u001B[39m)\n\u001B[0;32m---> 11\u001B[0m \u001B[43mhFingerX\u001B[49m\u001B[38;5;241;43m.\u001B[39;49m\u001B[43mDraw\u001B[49m()\n\u001B[1;32m     12\u001B[0m c1\u001B[38;5;241m.\u001B[39mcd(\u001B[38;5;241m2\u001B[39m)\n\u001B[1;32m     13\u001B[0m hFingerY\u001B[38;5;241m.\u001B[39mDraw()\n",
      "\u001B[0;31mKeyboardInterrupt\u001B[0m: TH1D& ROOT::RDF::RResultPtr<TH1D>::operator*() =>\n    KeyboardInterrupt: "
     ]
    }
   ],
   "execution_count": 6
  },
  {
   "cell_type": "code",
   "metadata": {
    "tags": []
   },
   "source": [
    "# Canvas 2\n",
    "\n",
    "hPrimE = fdft.Histo1D((\"h1\", \"E\", 100, 0.0, 15000.0),'Prim_E')\n",
    "hPrimTh = fdft.Histo1D((\"h1\", \"TH\", 100, -0.1, 3.2),'fNewTheta')\n",
    "hPrimPh = fdft.Histo1D((\"h1\", \"PH\", 100, -0.1, 6.4),'fNewPhi')\n",
    "hPrimPdg = fdft.Histo1D((\"h1\", \"PDG\", 100, 0.0, 20.0),'Prim_pdg')\n",
    "\n",
    "c2 = root.TCanvas(\"c2\",\"c2\",800,800)\n",
    "c2.Divide(2,2,0.01,0.01,0)\n",
    "\n",
    "c2.cd(1)\n",
    "hPrimE.Draw()\n",
    "c2.cd(2)\n",
    "hPrimTh.Draw()\n",
    "c2.cd(3)\n",
    "hPrimPh.Draw()\n",
    "c2.cd(4)\n",
    "hPrimPdg.Draw()\n",
    "\n",
    "c2.Draw()\n",
    "c2.Print(\"plots/c2.pdf\")\n"
   ],
   "outputs": [],
   "execution_count": null
  },
  {
   "cell_type": "code",
   "metadata": {
    "tags": []
   },
   "source": [
    "def plotSinglePoints(hist):\n",
    "\n",
    "    x1 = 60.0;\n",
    "    y1 = 115.0;\n",
    "    x2 = 70.0;\n",
    "    y2 = 125.0;\n",
    "    opacity = 0.9;\n",
    "    rect7 = root.TBox(x1, y1, x2, y2);\n",
    "    rect7.SetFillColorAlpha(3, opacity);\n",
    "    hist.GetListOfFunctions().Add(rect7);\n",
    "    x1 = 60.0;\n",
    "    y1 = -115.0;\n",
    "    x2 = 70.0;\n",
    "    y2 = -125.0;\n",
    "    opacity = 0.9;\n",
    "    rect8 = root.TBox(x1, y1, x2, y2);\n",
    "    rect8.SetFillColorAlpha(3, opacity);\n",
    "    hist.GetListOfFunctions().Add(rect8);\n",
    "    x1 = -35.0;\n",
    "    y1 = -5.0;\n",
    "    x2 = -45.0;\n",
    "    y2 = 5.0;\n",
    "    opacity = 0.9;\n",
    "    rect9 = root.TBox(x1, y1, x2, y2);\n",
    "    rect9.SetFillColorAlpha(3, opacity);\n",
    "    hist.GetListOfFunctions().Add(rect9);\n",
    "    x1 = -5.0;\n",
    "    y1 = 55.0;\n",
    "    x2 = 5.0;\n",
    "    y2 = 65.0;\n",
    "    opacity = 0.9;\n",
    "    rect10 = root.TBox(x1, y1, x2, y2);\n",
    "    rect10.SetFillColorAlpha(3, opacity);\n",
    "    hist.GetListOfFunctions().Add(rect10);\n",
    "    x1 = -5.0;\n",
    "    y1 = -55.0;\n",
    "    x2 = 5.0;\n",
    "    y2 = -65.0;\n",
    "    opacity = 0.9;\n",
    "    rect11 = root.TBox(x1, y1, x2, y2);\n",
    "    rect11.SetFillColorAlpha(3, opacity);\n",
    "    hist.GetListOfFunctions().Add(rect11);\n",
    "    x1 = 25.0;\n",
    "    y1 = -85.0;\n",
    "    x2 = 35.0;\n",
    "    y2 = -95.0;\n",
    "    opacity = 0.9;\n",
    "    rect12 = root.TBox(x1, y1, x2, y2);\n",
    "    rect12.SetFillColorAlpha(3, opacity);\n",
    "    hist.GetListOfFunctions().Add(rect12);\n",
    "    x1 = 25.0;\n",
    "    y1 = 85.0;\n",
    "    x2 = 35.0;\n",
    "    y2 = 95.0;\n",
    "    opacity = 0.9;\n",
    "    rect13 = root.TBox(x1, y1, x2, y2);\n",
    "    rect13.SetFillColorAlpha(3, opacity);\n",
    "    hist.GetListOfFunctions().Add(rect13);"
   ],
   "outputs": [],
   "execution_count": null
  },
  {
   "cell_type": "code",
   "metadata": {
    "tags": []
   },
   "source": [
    "def plotDetector(hist):\n",
    "    \n",
    "    opacity=0.2\n",
    "    x1 = 55.0\n",
    "    y1 = -61.6\n",
    "    x2 = -45.2\n",
    "    y2 = -8.74\n",
    "    rect1 = root.TBox(x1, y1, x2, y2)\n",
    "    rect1.SetFillColorAlpha(2, opacity)\n",
    "    hist.GetListOfFunctions().Add(rect1)\n",
    "    x1 = 55.0\n",
    "    y1 = -8.74\n",
    "    x2 = -45.2\n",
    "    y2 = 44.14\n",
    "    rect2 = root.TBox(x1, y1, x2, y2)\n",
    "    rect2.SetFillColorAlpha(2, opacity)\n",
    "    hist.GetListOfFunctions().Add(rect2)\n",
    "    x1 = 62.5\n",
    "    y1 = -114.54\n",
    "    x2 = -37.7\n",
    "    y2 = -61.62\n",
    "    rect3 = root.TBox(x1, y1, x2, y2)\n",
    "    rect3.SetFillColorAlpha(2, opacity)\n",
    "    hist.GetListOfFunctions().Add(rect3)\n",
    "    x1 = 70.0\n",
    "    y1 = -167.46\n",
    "    x2 = -30.2\n",
    "    y2 = -114.54\n",
    "    rect4 = root.TBox(x1, y1, x2, y2);\n",
    "    rect4.SetFillColorAlpha(2, opacity)\n",
    "    hist.GetListOfFunctions().Add(rect4);\n",
    "    x1 = 62.5\n",
    "    y1 = 44.14\n",
    "    x2 = -37.7\n",
    "    y2 = 97.50\n",
    "    rect5 = root.TBox(x1, y1, x2, y2)\n",
    "    rect5.SetFillColorAlpha(2, opacity)\n",
    "    hist.GetListOfFunctions().Add(rect5)\n",
    "    x1 = 70.0\n",
    "    y1 = 97.50\n",
    "    x2 = -30.2\n",
    "    y2 = 150.0\n",
    "    rect6 = root.TBox(x1, y1, x2, y2)\n",
    "    rect6.SetFillColorAlpha(2, opacity)\n",
    "    hist.GetListOfFunctions().Add(rect6)"
   ],
   "outputs": [],
   "execution_count": null
  },
  {
   "cell_type": "code",
   "metadata": {
    "tags": []
   },
   "source": "\n",
   "outputs": [],
   "execution_count": null
  },
  {
   "cell_type": "code",
   "metadata": {},
   "source": "",
   "outputs": [],
   "execution_count": null
  },
  {
   "cell_type": "code",
   "metadata": {
    "tags": []
   },
   "source": "",
   "outputs": [],
   "execution_count": null
  },
  {
   "cell_type": "code",
   "metadata": {
    "tags": []
   },
   "source": [
    "# Canvas 3\n",
    "\n",
    "hDetectorNhits = fdft.Histo1D('Detector_Nhits')\n",
    "hFingerPdg = fdft.Histo1D('fingerPDG')\n",
    "hFingerID = fdft.Histo1D('fingerID')\n",
    "hPMTID = fdft.Histo1D('PMT_id')\n",
    "hFingerPMTID = fdft.Histo1D('fingerPMTID')\n",
    "hFingerPMTTime = fdft.Histo1D('fingerPMTTime')\n",
    "\n",
    "c3 = root.TCanvas(\"c3\",\"c3\",800,800)\n",
    "c3.Divide(2,3,0.01,0.01,0)\n",
    "\n",
    "c3.cd(1)\n",
    "hDetectorNhits.Draw()\n",
    "#hDetectorNhits.GetXaxis().SetRangeUser(0,140)\n",
    "c3.cd(2)\n",
    "hFingerPdg.Draw()\n",
    "c3.cd(3)\n",
    "hFingerID.Draw()\n",
    "c3.cd(4)\n",
    "#hPMTID.GetXaxis().SetRangeUser(0,2600)\n",
    "hPMTID.Draw()\n",
    "c3.cd(5)\n",
    "hFingerPMTID.Draw()\n",
    "c3.cd(6)\n",
    "hFingerPMTTime.Draw()\n",
    "\n",
    "c3.Draw()\n",
    "c3.Print(\"plots/c3.pdf\")\n"
   ],
   "outputs": [],
   "execution_count": null
  },
  {
   "cell_type": "code",
   "metadata": {
    "tags": []
   },
   "source": [
    "# Canvas 4\n",
    "\n",
    "hFingerEd = fdft.Histo1D((\"h1\", \"Finger EDep\", 100, -1.0, 10.0),'fingerEd')\n",
    "hFingerPMTNphot = fdft.Histo1D((\"h1\", \"Finger Npe\", 100, -250.0, 1000.0),'fingerPMTNPhotons')\n",
    "\n",
    "c4 = root.TCanvas(\"c4\",\"c4\",800,800)\n",
    "\n",
    "c4.cd()\n",
    "pad = root.TPad(\"pad\",\"pad\",0.01,0.01,0.50,0.99)\n",
    "pad.Draw()\n",
    "pad.cd()\n",
    "hFingerEd.GetXaxis().SetRangeUser(-1.0,4)\n",
    "hFingerEd.Draw();\n",
    "\n",
    "c4.cd()\n",
    "pad = root.TPad(\"pad\",\"pad\",0.51,0.01,0.99,0.99)\n",
    "pad.Draw()\n",
    "pad.cd()\n",
    "hFingerPMTNphot.GetXaxis().SetRangeUser(-250,1000)\n",
    "hFingerPMTNphot.Draw()\n",
    "\n",
    "\n",
    "c4.Draw()\n",
    "c4.Print(\"plots/c4.pdf\")"
   ],
   "outputs": [],
   "execution_count": null
  },
  {
   "cell_type": "code",
   "metadata": {
    "tags": []
   },
   "source": "",
   "outputs": [],
   "execution_count": null
  },
  {
   "cell_type": "code",
   "metadata": {},
   "source": [],
   "outputs": [],
   "execution_count": null
  },
  {
   "cell_type": "code",
   "metadata": {
    "tags": []
   },
   "source": "",
   "outputs": [],
   "execution_count": null
  },
  {
   "cell_type": "code",
   "metadata": {
    "tags": []
   },
   "source": [
    "hFinger_Edep_vs_Nphot = fdft.Filter(\"trigger2\").Histo2D((\"h3\", \"Finger Edep vs Nphot\", 100, 0.01, 500.0, 100, 0.01, 4.0),\"fingerPMTNPhotons\",\"fingerEd\")\n",
    "\n",
    "c7 = root.TCanvas(\"c7\", \"c7\", 800, 800)\n",
    "c7.Divide(2,1, 0.01, 0.01, 0)\n",
    "\n",
    "\n",
    "#c7PE_MeV = root.TCanvas(\"c7PE_MeV\", \"c7PE_MeV\", 800,800)\n",
    "#c7Profile = root.TCanvas(\"c7Profile\", \"c7Profile\", 800,800)\n",
    "\n",
    "c7.cd(1)\n",
    "hFinger_Edep_vs_Nphot.Draw(\"COLZ\")\n",
    "c7.cd(2)\n",
    "prof = hFinger_Edep_vs_Nphot.ProfileX()\n",
    "prof.Fit(\"pol1\", \"Q\", \"\", 80, 400.0)"
   ],
   "outputs": [],
   "execution_count": null
  },
  {
   "cell_type": "code",
   "metadata": {
    "tags": []
   },
   "source": [
    "c7.Draw()\n",
    "c7.Print(\"plots/c7.pdf\")"
   ],
   "outputs": [],
   "execution_count": null
  },
  {
   "cell_type": "code",
   "metadata": {
    "tags": []
   },
   "source": [
    "hFinger_Edep_vs_NphotCut = fdft.Filter(\"trigger3\").Histo2D((\"h3\", \"Finger Edep vs Nphot\", 100, 0.01, 500.0, 100, 0.01, 4.0),\"fingerPMTNPhotons\",\"fingerEd\")\n",
    "\n",
    "c8 = root.TCanvas(\"c8\", \"c8\", 800, 800)\n",
    "c8.Divide(2,1, 0.01, 0.01, 0)\n",
    "\n",
    "#c7PE_MeV = root.TCanvas(\"c7PE_MeV\", \"c7PE_MeV\", 800,800)\n",
    "#c7Profile = root.TCanvas(\"c7Profile\", \"c7Profile\", 800,800)\n",
    "\n",
    "c8.cd(1)\n",
    "hFinger_Edep_vs_NphotCut.Draw(\"COLZ\")\n",
    "c8.cd(2)\n",
    "prof = hFinger_Edep_vs_NphotCut.ProfileX()\n",
    "prof.Fit(\"pol1\", \"Q\", \"\", 80, 400.0)"
   ],
   "outputs": [],
   "execution_count": null
  },
  {
   "cell_type": "code",
   "metadata": {
    "tags": []
   },
   "source": "c8.Draw()c8.Print(\"plots/c8.pdf\")",
   "outputs": [],
   "execution_count": null
  },
  {
   "cell_type": "code",
   "metadata": {
    "tags": []
   },
   "source": "",
   "outputs": [],
   "execution_count": null
  },
  {
   "cell_type": "code",
   "metadata": {
    "tags": []
   },
   "source": "",
   "outputs": [],
   "execution_count": null
  },
  {
   "cell_type": "code",
   "metadata": {
    "tags": []
   },
   "source": "",
   "outputs": [],
   "execution_count": null
  },
  {
   "cell_type": "code",
   "metadata": {
    "tags": []
   },
   "source": [],
   "outputs": [],
   "execution_count": null
  },
  {
   "cell_type": "code",
   "metadata": {
    "tags": []
   },
   "source": "",
   "outputs": [],
   "execution_count": null
  },
  {
   "cell_type": "code",
   "metadata": {
    "tags": []
   },
   "source": [
    "hPrimPx = fdft.Histo1D((\"h1\", \"Px\", 100, -1000, 1000),\"fPx\")\n",
    "hPrimPy = fdft.Histo1D((\"h1\", \"Px\", 100, -8000, 1000),\"fPy\")\n",
    "hPrimPz = fdft.Histo1D((\"h1\", \"Px\", 100, -2000, 2000),\"fPz\")\n",
    "\n",
    "c12 = root.TCanvas(\"c12\", \"c12\", 800,800)\n",
    "c12.Divide(2,2, 0.01, 0.01, 0)\n",
    "\n",
    "c12.cd(1)\n",
    "hPrimPx.Draw()\n",
    "c12.cd(2)\n",
    "hPrimPy.Draw()\n",
    "c12.cd(3)\n",
    "hPrimPz.Draw()\n",
    "\n",
    "c12.Draw()\n",
    "c12.Print(\"plots/c12.pdf\")"
   ],
   "outputs": [],
   "execution_count": null
  },
  {
   "cell_type": "code",
   "metadata": {
    "tags": []
   },
   "source": [],
   "outputs": [],
   "execution_count": null
  },
  {
   "cell_type": "code",
   "metadata": {
    "tags": []
   },
   "source": [
    "hPrimXZ = fdft.Histo2D((\"h99\", \"G4SBS z vs x\", 100, -80.0, 80.0, 100, -80.0, 80.0),\"Prim_X\",\"Prim_Z\");\n",
    "    \n",
    "c13 = root.TCanvas(\"c13\", \"c13\", 800, 800)\n",
    "\n",
    "#plotDetector(hPrimXZ);\n",
    "hPrimXZ.Draw('COLZ')\n",
    "\n",
    "c13.Draw()\n",
    "c3.Print(\"plots/c13.pdf\")"
   ],
   "outputs": [],
   "execution_count": null
  },
  {
   "cell_type": "code",
   "metadata": {
    "tags": []
   },
   "source": [
    "# Canvas 14\n",
    "hPrimX = fdft.Histo1D((\"h99\",\"X_vtx\", 100, -80,80),\"Prim_X\")\n",
    "hPrimY = fdft.Histo1D((\"h99\",\"Y_vtx\", 100, 0,40),\"Prim_Y\")\n",
    "hPrimZ = fdft.Histo1D((\"h99\",\"Z_vtx\", 100, -200,200),\"Prim_Z\")\n",
    "hPrimXZ = fdft.Histo2D((\"h99\", \"z vs z\", 100, -80.0, 80.0, 100, -80.0, 80.0),\"Prim_X\",\"Prim_Z\")\n",
    "\n",
    "c14 = root.TCanvas(\"c14\",\"c14\",800,800)\n",
    "c14.Divide(2,2,0.01,0.01,0)\n",
    "\n",
    "c14.cd(1)\n",
    "hPrimX.Draw()\n",
    "c14.cd(2)\n",
    "hPrimY.Draw()\n",
    "c14.cd(3)\n",
    "hPrimZ.Draw()\n",
    "c14.cd(4)\n",
    "hPrimXZ.Draw('COLZ')\n",
    "\n",
    "c14.Draw()\n",
    "c14.Print(\"plots/c14.pdf\")"
   ],
   "outputs": [],
   "execution_count": null
  },
  {
   "cell_type": "code",
   "metadata": {
    "tags": []
   },
   "source": "",
   "outputs": [],
   "execution_count": null
  },
  {
   "cell_type": "code",
   "metadata": {
    "tags": []
   },
   "source": "",
   "outputs": [],
   "execution_count": null
  },
  {
   "cell_type": "code",
   "metadata": {
    "tags": []
   },
   "source": [
    "t.stop()"
   ],
   "outputs": [],
   "execution_count": null
  },
  {
   "cell_type": "code",
   "metadata": {},
   "source": [],
   "outputs": [],
   "execution_count": null
  },
  {
   "cell_type": "code",
   "metadata": {},
   "source": [],
   "outputs": [],
   "execution_count": null
  },
  {
   "cell_type": "code",
   "metadata": {},
   "source": [],
   "outputs": [],
   "execution_count": null
  },
  {
   "cell_type": "code",
   "metadata": {},
   "source": [],
   "outputs": [],
   "execution_count": null
  },
  {
   "cell_type": "code",
   "metadata": {},
   "source": [],
   "outputs": [],
   "execution_count": null
  }
 ],
 "metadata": {
  "kernelspec": {
   "display_name": "Python 3 (ipykernel)",
   "language": "python",
   "name": "python3"
  },
  "language_info": {
   "codemirror_mode": {
    "name": "ipython",
    "version": 3
   },
   "file_extension": ".py",
   "mimetype": "text/x-python",
   "name": "python",
   "nbconvert_exporter": "python",
   "pygments_lexer": "ipython3",
   "version": "3.12.1"
  }
 },
 "nbformat": 4,
 "nbformat_minor": 4
}
