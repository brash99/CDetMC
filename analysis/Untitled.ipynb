{
 "cells": [
  {
   "cell_type": "code",
   "execution_count": 1,
   "id": "48bacc5b-39cf-4c06-ad06-f7c556b9980a",
   "metadata": {},
   "outputs": [
    {
     "data": {
      "text/plain": [
       "main (generic function with 1 method)"
      ]
     },
     "execution_count": 1,
     "metadata": {},
     "output_type": "execute_result"
    }
   ],
   "source": [
    "function main()\n",
    "    println(\"hello, world! let's calculate a sum of squares\")\n",
    "\n",
    "    total = 0\n",
    "    for i in 1:10\n",
    "        total += i^2\n",
    "    end\n",
    "\n",
    "    println(\"The answer is $(total)\")\n",
    "end"
   ]
  },
  {
   "cell_type": "code",
   "execution_count": 2,
   "id": "8837c634-e74e-46ff-b699-7a78cb7be3e2",
   "metadata": {},
   "outputs": [
    {
     "name": "stdout",
     "output_type": "stream",
     "text": [
      "hello, world! let's calculate a sum of squares\n",
      "The answer is 385\n"
     ]
    }
   ],
   "source": [
    "main()"
   ]
  },
  {
   "cell_type": "code",
   "execution_count": 3,
   "id": "952b1b32-4a60-46ab-b2f3-159f87eb8529",
   "metadata": {},
   "outputs": [
    {
     "data": {
      "text/plain": [
       "1.0e-9"
      ]
     },
     "execution_count": 3,
     "metadata": {},
     "output_type": "execute_result"
    }
   ],
   "source": [
    "x = 1.09\n",
    "my_amazing_string = \"a string\"\n",
    "δ = 1.0e-9"
   ]
  },
  {
   "cell_type": "code",
   "execution_count": 4,
   "id": "d1b5022e-d8ae-4816-b7c3-45ba01e6c55a",
   "metadata": {},
   "outputs": [
    {
     "name": "stdout",
     "output_type": "stream",
     "text": [
      "a === b = false\n",
      "a === c = true\n"
     ]
    },
    {
     "data": {
      "text/plain": [
       "true"
      ]
     },
     "execution_count": 4,
     "metadata": {},
     "output_type": "execute_result"
    }
   ],
   "source": [
    "a = [1, 2]\n",
    "b = [1, 2]\n",
    "c = a\n",
    "@show a === b\n",
    "@show a === c"
   ]
  },
  {
   "cell_type": "code",
   "execution_count": 5,
   "id": "eece056a-2380-4f49-b170-f475716e66c3",
   "metadata": {},
   "outputs": [
    {
     "data": {
      "text/plain": [
       "my_vector(3.7, 6.0e7)"
      ]
     },
     "execution_count": 5,
     "metadata": {},
     "output_type": "execute_result"
    }
   ],
   "source": [
    "struct my_vector\n",
    "    x::Float64\n",
    "    y::Float64\n",
    "end\n",
    "\n",
    "υϵκτωρ = my_vector(3.7, 6e7)"
   ]
  },
  {
   "cell_type": "code",
   "execution_count": 6,
   "id": "20932678-57d8-41db-ae1c-cd6a1da9f76f",
   "metadata": {},
   "outputs": [
    {
     "ename": "LoadError",
     "evalue": "ArgumentError: Package Plots not found in current path.\n- Run `import Pkg; Pkg.add(\"Plots\")` to install the Plots package.",
     "output_type": "error",
     "traceback": [
      "ArgumentError: Package Plots not found in current path.\n- Run `import Pkg; Pkg.add(\"Plots\")` to install the Plots package.",
      "",
      "Stacktrace:",
      " [1] macro expansion",
      "   @ ./loading.jl:1772 [inlined]",
      " [2] macro expansion",
      "   @ ./lock.jl:267 [inlined]",
      " [3] __require(into::Module, mod::Symbol)",
      "   @ Base ./loading.jl:1753",
      " [4] #invoke_in_world#3",
      "   @ ./essentials.jl:926 [inlined]",
      " [5] invoke_in_world",
      "   @ ./essentials.jl:923 [inlined]",
      " [6] require(into::Module, mod::Symbol)",
      "   @ Base ./loading.jl:1746"
     ]
    }
   ],
   "source": [
    "using Plots, LaTeXStrings #if you didn't install it already, you would need to use Pkg to add Plots first"
   ]
  },
  {
   "cell_type": "code",
   "execution_count": null,
   "id": "403bf7e8-6b94-4529-8e53-30c5c3445f24",
   "metadata": {},
   "outputs": [],
   "source": []
  }
 ],
 "metadata": {
  "kernelspec": {
   "display_name": "Julia 1.10.4",
   "language": "julia",
   "name": "julia-1.10"
  },
  "language_info": {
   "file_extension": ".jl",
   "mimetype": "application/julia",
   "name": "julia",
   "version": "1.10.4"
  }
 },
 "nbformat": 4,
 "nbformat_minor": 5
}
