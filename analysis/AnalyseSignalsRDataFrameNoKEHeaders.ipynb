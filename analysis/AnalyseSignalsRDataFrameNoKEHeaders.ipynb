{
 "cells": [
  {
   "cell_type": "code",
   "metadata": {
    "tags": [],
    "ExecuteTime": {
     "end_time": "2024-07-31T17:43:07.827051Z",
     "start_time": "2024-07-31T17:43:06.898324Z"
    }
   },
   "source": [
    "import ROOT as root\n",
    "import numpy as np\n",
    "import random\n",
    "from timer import Timer\n",
    "\n",
    "t = Timer()\n",
    "t.start()"
   ],
   "outputs": [],
   "execution_count": 2
  },
  {
   "cell_type": "code",
   "metadata": {
    "tags": [],
    "ExecuteTime": {
     "end_time": "2024-07-31T17:43:08.866651Z",
     "start_time": "2024-07-31T17:43:08.539033Z"
    }
   },
   "source": [
    "fileName = \"data/AnaBarMC_9991.root\"\n",
    "treeName = \"T\"\n",
    "\n",
    "f = root.TFile(fileName)\n",
    "myTree = f.Get(treeName)\n",
    "\n",
    "myTree.Print()\n",
    "\n",
    "root.EnableImplicitMT()\n",
    "d = root.RDataFrame(treeName,fileName)\n",
    "\n",
    "myGeometryData = myTree.GetUserInfo().FindObject(\"myGeometryData\")"
   ],
   "outputs": [
    {
     "name": "stdout",
     "output_type": "stream",
     "text": [
      "******************************************************************************\n",
      "*Tree    :T         : Output Tree                                            *\n",
      "*Entries :    59921 : Total =     24181436115 bytes  File  Size =  250706552 *\n",
      "*        :          : Tree compression factor =  96.77                       *\n",
      "******************************************************************************\n",
      "*Br    0 :Prim_E    : Prim_E/F                                               *\n",
      "*Entries :    59921 : Total  Size=     245393 bytes  File Size  =     192714 *\n",
      "*Baskets :       60 : Basket Size=      32000 bytes  Compression=   1.27     *\n",
      "*............................................................................*\n",
      "*Br    1 :Prim_X    : Prim_X/F                                               *\n",
      "*Entries :    59921 : Total  Size=     245393 bytes  File Size  =     156275 *\n",
      "*Baskets :       60 : Basket Size=      32000 bytes  Compression=   1.56     *\n",
      "*............................................................................*\n",
      "*Br    2 :Prim_Y    : Prim_Y/F                                               *\n",
      "*Entries :    59921 : Total  Size=     245393 bytes  File Size  =       7676 *\n",
      "*Baskets :       60 : Basket Size=      32000 bytes  Compression=  31.77     *\n",
      "*............................................................................*\n",
      "*Br    3 :Prim_Z    : Prim_Z/F                                               *\n",
      "*Entries :    59921 : Total  Size=     245393 bytes  File Size  =     140359 *\n",
      "*Baskets :       60 : Basket Size=      32000 bytes  Compression=   1.74     *\n",
      "*............................................................................*\n",
      "*Br    4 :Prim_Th   : Prim_Th/F                                              *\n",
      "*Entries :    59921 : Total  Size=     245457 bytes  File Size  =     181481 *\n",
      "*Baskets :       60 : Basket Size=      32000 bytes  Compression=   1.34     *\n",
      "*............................................................................*\n",
      "*Br    5 :Prim_Ph   : Prim_Ph/F                                              *\n",
      "*Entries :    59921 : Total  Size=     245457 bytes  File Size  =     181602 *\n",
      "*Baskets :       60 : Basket Size=      32000 bytes  Compression=   1.34     *\n",
      "*............................................................................*\n",
      "*Br    6 :Prim_pdg  : Prim_pdg/I                                             *\n",
      "*Entries :    59921 : Total  Size=     245521 bytes  File Size  =       7736 *\n",
      "*Baskets :       60 : Basket Size=      32000 bytes  Compression=  31.54     *\n",
      "*............................................................................*\n",
      "*Br    7 :PMT_id    : PMT_id/I                                               *\n",
      "*Entries :    59921 : Total  Size=     245393 bytes  File Size  =      89035 *\n",
      "*Baskets :       60 : Basket Size=      32000 bytes  Compression=   2.74     *\n",
      "*............................................................................*\n",
      "*Br    8 :PMT_Nphotons : PMT_Nphotons[50000]/I                               *\n",
      "*Entries :59921 : Total  Size=11989952763 bytes  File Size  = 64818319 *\n",
      "*Baskets :    59921 : Basket Size=      32000 bytes  Compression= 184.96     *\n",
      "*............................................................................*\n",
      "*Br    9 :PMT_Time  : PMT_Time[50000]/F                                      *\n",
      "*Entries :59921 : Total  Size=11989713063 bytes  File Size  = 68058431 *\n",
      "*Baskets :    59921 : Basket Size=      32000 bytes  Compression= 176.15     *\n",
      "*............................................................................*\n",
      "*Br   10 :Detector_Nhits : Detector_Nhits/I                                  *\n",
      "*Entries :    59921 : Total  Size=     245905 bytes  File Size  =     105115 *\n",
      "*Baskets :       60 : Basket Size=      32000 bytes  Compression=   2.32     *\n",
      "*............................................................................*\n",
      "*Br   11 :Detector_pdg : Detector_pdg[Detector_Nhits]/I                      *\n",
      "*Entries :    59921 : Total  Size=   28487893 bytes  File Size  =    2210663 *\n",
      "*Baskets :      938 : Basket Size=      32000 bytes  Compression=  12.88     *\n",
      "*............................................................................*\n",
      "*Br   12 :Detector_id : Detector_id[Detector_Nhits]/I                        *\n",
      "*Entries :    59921 : Total  Size=   28486951 bytes  File Size  =    1461715 *\n",
      "*Baskets :      938 : Basket Size=      32000 bytes  Compression=  19.48     *\n",
      "*............................................................................*\n",
      "*Br   13 :Detector_x : Detector_x[Detector_Nhits]/F                          *\n",
      "*Entries :    59921 : Total  Size=   28486016 bytes  File Size  =   21687743 *\n",
      "*Baskets :      938 : Basket Size=      32000 bytes  Compression=   1.31     *\n",
      "*............................................................................*\n",
      "*Br   14 :Detector_y : Detector_y[Detector_Nhits]/F                          *\n",
      "*Entries :    59921 : Total  Size=   28486016 bytes  File Size  =   24338371 *\n",
      "*Baskets :      938 : Basket Size=      32000 bytes  Compression=   1.17     *\n",
      "*............................................................................*\n",
      "*Br   15 :Detector_z : Detector_z[Detector_Nhits]/F                          *\n",
      "*Entries :    59921 : Total  Size=   28486016 bytes  File Size  =   19565897 *\n",
      "*Baskets :      938 : Basket Size=      32000 bytes  Compression=   1.45     *\n",
      "*............................................................................*\n",
      "*Br   16 :Detector_t : Detector_t[Detector_Nhits]/F                          *\n",
      "*Entries :    59921 : Total  Size=   28486016 bytes  File Size  =   21915244 *\n",
      "*Baskets :      938 : Basket Size=      32000 bytes  Compression=   1.30     *\n",
      "*............................................................................*\n",
      "*Br   17 :Detector_Ed : Detector_Ed[Detector_Nhits]/F                        *\n",
      "*Entries :    59921 : Total  Size=   28486958 bytes  File Size  =   24748244 *\n",
      "*Baskets :      938 : Basket Size=      32000 bytes  Compression=   1.15     *\n",
      "*............................................................................*\n"
     ]
    }
   ],
   "execution_count": 3
  },
  {
   "cell_type": "code",
   "metadata": {
    "tags": [],
    "ExecuteTime": {
     "end_time": "2024-07-31T17:43:09.960435Z",
     "start_time": "2024-07-31T17:43:09.831317Z"
    }
   },
   "source": [
    "#myGeometryData.Print()\n",
    "print(myGeometryData[0])\n",
    "print(myGeometryData[0][0])\n",
    "print(myGeometryData[0][1])\n",
    "print(myGeometryData[0][2])\n",
    "print(myGeometryData[0][3])\n",
    "print(myGeometryData[1][0])\n",
    "print(myGeometryData[1][1])\n",
    "print(myGeometryData[1][2])\n",
    "print(myGeometryData[1][3])\n",
    "print(len(myGeometryData))\n",
    "type(myGeometryData)"
   ],
   "outputs": [
    {
     "name": "stdout",
     "output_type": "stream",
     "text": [
      "Name: TVectorT<double> Title: \n",
      "0.0\n",
      "450.0\n",
      "0.0\n",
      "1497.5\n",
      "1.0\n",
      "450.0\n",
      "0.0\n",
      "1492.0999755859375\n",
      "2352\n"
     ]
    },
    {
     "data": {
      "text/plain": [
       "<class cppyy.gbl.TList at 0x103690610>"
      ]
     },
     "execution_count": 4,
     "metadata": {},
     "output_type": "execute_result"
    }
   ],
   "execution_count": 4
  },
  {
   "cell_type": "code",
   "metadata": {
    "tags": [],
    "ExecuteTime": {
     "end_time": "2024-07-31T17:43:28.525703Z",
     "start_time": "2024-07-31T17:43:28.250764Z"
    }
   },
   "source": "root.gInterpreter.ProcessLine('#include \"AnalyseSignalsRDataFrameNoKE.h\"')",
   "outputs": [
    {
     "data": {
      "text/plain": [
       "0"
      ]
     },
     "execution_count": 6,
     "metadata": {},
     "output_type": "execute_result"
    }
   ],
   "execution_count": 6
  },
  {
   "cell_type": "code",
   "metadata": {
    "tags": [],
    "ExecuteTime": {
     "end_time": "2024-07-31T17:43:32.814148Z",
     "start_time": "2024-07-31T17:43:31.029609Z"
    }
   },
   "source": [
    "fdf = d.Define(\"trigger\", \"getTrigger(Detector_Nhits, &Detector_id[0])\") \\\n",
    "       .Define(\"fMass\", \"getMass(Prim_pdg)\") \\\n",
    "       .Define(\"fMomentum\",\"getMomentum(Prim_E,fMass)\") \\\n",
    "       .Define(\"fPx\", \"getPx(fMomentum,Prim_Th,Prim_Ph)\") \\\n",
    "       .Define(\"fPy\", \"getPy(fMomentum,Prim_Th,Prim_Ph)\") \\\n",
    "       .Define(\"fPz\", \"getPz(fMomentum,Prim_Th,Prim_Ph)\") \\\n",
    "       .Define(\"fNewTheta\", \"getNewTheta(fMomentum,fPy)\") \\\n",
    "       .Define(\"fNewPhi\", \"getNewPhi(fMomentum,fPx,fPz)\") \\\n",
    "       .Define(\"trigger2\", \"getTrigger2(trigger,fNewTheta)\") \\\n",
    "       .Define(\"trigger3\", \"getTrigger3(trigger,fNewTheta)\") \\\n",
    "       .Define(\"fingerXVec\",\"getFingerXVec(trigger,Detector_Nhits,&Detector_id[0],&Detector_pdg[0],&Detector_x[0],Prim_pdg)\") \\\n",
    "       .Define(\"fingerYVec\",\"getFingerYVec(trigger,Detector_Nhits,&Detector_id[0],&Detector_pdg[0],&Detector_y[0],Prim_pdg)\") \\\n",
    "       .Define(\"fingerZVec\",\"getFingerZVec(trigger,Detector_Nhits,&Detector_id[0],&Detector_pdg[0],&Detector_z[0],Prim_pdg)\") \\\n",
    "       .Define(\"fingerTVec\",\"getFingerTVec(trigger,Detector_Nhits,&Detector_id[0],&Detector_pdg[0],&Detector_t[0],Prim_pdg)\") \\\n",
    "       .Define(\"anaBarXVec\",\"getAnaBarXVec(trigger,Detector_Nhits,&Detector_id[0],&Detector_pdg[0],&Detector_x[0],Prim_pdg)\") \\\n",
    "       .Define(\"anaBarYVec\",\"getAnaBarYVec(trigger,Detector_Nhits,&Detector_id[0],&Detector_pdg[0],&Detector_y[0],Prim_pdg)\") \\\n",
    "       .Define(\"anaBarZVec\",\"getAnaBarZVec(trigger,Detector_Nhits,&Detector_id[0],&Detector_pdg[0],&Detector_z[0],Prim_pdg)\") \\\n",
    "       .Define(\"anaBarTVec\",\"getAnaBarTVec(trigger,Detector_Nhits,&Detector_id[0],&Detector_pdg[0],&Detector_t[0],Prim_pdg)\") \\\n",
    "       .Define(\"fingerID\",\"getFingerID(trigger,Detector_Nhits,&Detector_id[0],&Detector_pdg[0])\") \\\n",
    "       .Define(\"fingerPDG\",\"getFingerPDG(trigger,Detector_Nhits,&Detector_id[0],&Detector_pdg[0])\") \\\n",
    "       .Define(\"anaBarID\",\"getAnaBarID(trigger,Detector_Nhits,&Detector_id[0],&Detector_pdg[0])\") \\\n",
    "       .Define(\"anaBarPDG\",\"getAnaBarPDG(trigger,Detector_Nhits,&Detector_id[0],&Detector_pdg[0])\") \\\n",
    "       .Define(\"anaBarPMTID\",\"getAnaBarPMTID(trigger,&PMT_Nphotons[0])\") \\\n",
    "       .Define(\"fingerPMTID\",\"getFingerPMTID(trigger,&PMT_Nphotons[0])\") \\\n",
    "       .Define(\"fingerPMTNPhotons\",\"getFingerPMTNPhotons(trigger,&PMT_Nphotons[0])\") \\\n",
    "       .Define(\"anaBarPMTNPhotons\",\"getAnaBarPMTNPhotons(trigger,&PMT_Nphotons[0])\") \\\n",
    "       .Define(\"anaBarXPMT\",\"getAnaBarXPMT(trigger,&PMT_Nphotons[0],&PMT_Time[0])\") \\\n",
    "       .Define(\"anaBarZPMT\",\"getAnaBarZPMT(trigger,&PMT_Nphotons[0],&PMT_Time[0])\") \\\n",
    "       .Define(\"anaBarPXPMT\",\"getAnaBarPXPMT(trigger,&PMT_Nphotons[0],&PMT_Time[0])\") \\\n",
    "       .Define(\"anaBarPZPMT\",\"getAnaBarPZPMT(trigger,&PMT_Nphotons[0],&PMT_Time[0])\") \\\n",
    "       .Define(\"anaBarPMTTime\",\"getAnaBarPMTTime(trigger,&PMT_Nphotons[0],&PMT_Time[0])\") \\\n",
    "       .Define(\"anaBarPMTTimeTop\",\"getAnaBarPMTTimeTop(trigger,&PMT_Nphotons[0],&PMT_Time[0])\") \\\n",
    "       .Define(\"anaBarPMTTimeBottom\",\"getAnaBarPMTTimeBottom(trigger,&PMT_Nphotons[0],&PMT_Time[0])\") \\\n",
    "       .Define(\"anaBarNPhotonsTotal\",\"getAnaBarNPhotonsTotal(trigger,&PMT_Nphotons[0])\") \\\n",
    "       .Define(\"imult\",\"getAnaBarMult(trigger,&PMT_Nphotons[0])\") \\\n",
    "       .Define(\"fingerEd\",\"getFingerEd(trigger,fNewTheta,Detector_Nhits,Prim_pdg,&Detector_id[0],&Detector_pdg[0],&Detector_Ed[0])\") \\\n",
    "       .Define(\"anaBarEd\",\"getAnaBarEd(trigger,fNewTheta,Detector_Nhits,Prim_pdg,&Detector_id[0],&Detector_pdg[0],&Detector_Ed[0])\") \\\n",
    "       .Define(\"anaBarEdTotal\",\"getAnaBarEdTotal(trigger,fNewTheta,Detector_Nhits,Prim_pdg,&Detector_id[0],&Detector_pdg[0],&Detector_Ed[0])\")\n",
    "\n",
    "triggers = fdf.Filter(\"trigger==true\").Count()\n",
    "print('{} entries passed trigger'.format(triggers.GetValue()))\n",
    "\n",
    "fdft = fdf.Filter(\"trigger==true\")"
   ],
   "outputs": [
    {
     "name": "stdout",
     "output_type": "stream",
     "text": [
      "59918 entries passed trigger\n"
     ]
    }
   ],
   "execution_count": 7
  },
  {
   "cell_type": "code",
   "metadata": {
    "tags": [],
    "ExecuteTime": {
     "end_time": "2024-07-31T17:43:35.059270Z",
     "start_time": "2024-07-31T17:43:33.658318Z"
    }
   },
   "source": [
    "# Canvas 1\n",
    "hFingerX = fdft.Histo1D((\"h1\", \"X1\", 100, -100.0, 200.0),'fingerXVec')\n",
    "hFingerY = fdft.Histo1D((\"h2\", \"Y1\", 100, -1000.0, 500.0),'fingerYVec')\n",
    "hFingerZ = fdft.Histo1D((\"h3\", \"Z1\", 100, -2000.0, 2000.0),'fingerZVec')\n",
    "hFingerT = fdft.Histo1D((\"h4\", \"T1\", 100, -5.0, 15.0),'fingerTVec')\n",
    "\n",
    "c1 = root.TCanvas(\"c1\",\"c1\",800,800)\n",
    "c1.Divide(2,2,0.01,0.01,0)\n",
    "\n",
    "c1.cd(1)\n",
    "hFingerX.Draw()\n",
    "c1.cd(2)\n",
    "hFingerY.Draw()\n",
    "c1.cd(3)\n",
    "hFingerZ.Draw()\n",
    "c1.cd(4)\n",
    "hFingerT.Draw()\n",
    "\n",
    "c1.Draw()\n",
    "c1.Print(\"plots/c1.pdf\");"
   ],
   "outputs": [
    {
     "name": "stderr",
     "output_type": "stream",
     "text": [
      "Info in <TCanvas::Print>: pdf file plots/c1.pdf has been created\n"
     ]
    },
    {
     "data": {
      "image/png": "[encoded data removed]",
      "text/plain": [
       "<IPython.core.display.Image object>"
      ]
     },
     "metadata": {},
     "output_type": "display_data"
    }
   ],
   "execution_count": 8
  },
  {
   "cell_type": "code",
   "metadata": {
    "tags": [],
    "ExecuteTime": {
     "end_time": "2024-07-31T17:43:36.285806Z",
     "start_time": "2024-07-31T17:43:35.171819Z"
    }
   },
   "source": [
    "# Canvas 2\n",
    "\n",
    "hPrimE = fdft.Histo1D((\"h1\", \"E\", 100, 0.0, 7000.0),'Prim_E')\n",
    "hPrimTh = fdft.Histo1D((\"h1\", \"TH\", 100, -0.1, 3.2),'fNewTheta')\n",
    "hPrimPh = fdft.Histo1D((\"h1\", \"PH\", 100, -0.1, 6.4),'fNewPhi')\n",
    "hPrimPdg = fdft.Histo1D((\"h1\", \"PDG\", 100, 0.0, 20.0),'Prim_pdg')\n",
    "\n",
    "c2 = root.TCanvas(\"c2\",\"c2\",800,800)\n",
    "c2.Divide(2,2,0.01,0.01,0)\n",
    "\n",
    "c2.cd(1)\n",
    "hPrimE.Draw()\n",
    "c2.cd(2)\n",
    "hPrimTh.Draw()\n",
    "c2.cd(3)\n",
    "hPrimPh.Draw()\n",
    "c2.cd(4)\n",
    "hPrimPdg.Draw()\n",
    "\n",
    "c2.Draw()\n",
    "c2.Print(\"plots/c2.pdf\")\n"
   ],
   "outputs": [
    {
     "name": "stderr",
     "output_type": "stream",
     "text": [
      "Info in <TCanvas::Print>: pdf file plots/c2.pdf has been created\n"
     ]
    },
    {
     "data": {
      "image/png": "[encoded data removed]",
      "text/plain": [
       "<IPython.core.display.Image object>"
      ]
     },
     "metadata": {},
     "output_type": "display_data"
    }
   ],
   "execution_count": 9
  },
  {
   "cell_type": "code",
   "metadata": {
    "tags": [],
    "ExecuteTime": {
     "end_time": "2024-07-31T17:43:36.395296Z",
     "start_time": "2024-07-31T17:43:36.286635Z"
    }
   },
   "source": [
    "def plotSinglePoints(hist):\n",
    "\n",
    "    x1 = 60.0;\n",
    "    y1 = 115.0;\n",
    "    x2 = 70.0;\n",
    "    y2 = 125.0;\n",
    "    opacity = 0.9;\n",
    "    rect7 = root.TBox(x1, y1, x2, y2);\n",
    "    rect7.SetFillColorAlpha(3, opacity);\n",
    "    hist.GetListOfFunctions().Add(rect7);\n",
    "    x1 = 60.0;\n",
    "    y1 = -115.0;\n",
    "    x2 = 70.0;\n",
    "    y2 = -125.0;\n",
    "    opacity = 0.9;\n",
    "    rect8 = root.TBox(x1, y1, x2, y2);\n",
    "    rect8.SetFillColorAlpha(3, opacity);\n",
    "    hist.GetListOfFunctions().Add(rect8);\n",
    "    x1 = -35.0;\n",
    "    y1 = -5.0;\n",
    "    x2 = -45.0;\n",
    "    y2 = 5.0;\n",
    "    opacity = 0.9;\n",
    "    rect9 = root.TBox(x1, y1, x2, y2);\n",
    "    rect9.SetFillColorAlpha(3, opacity);\n",
    "    hist.GetListOfFunctions().Add(rect9);\n",
    "    x1 = -5.0;\n",
    "    y1 = 55.0;\n",
    "    x2 = 5.0;\n",
    "    y2 = 65.0;\n",
    "    opacity = 0.9;\n",
    "    rect10 = root.TBox(x1, y1, x2, y2);\n",
    "    rect10.SetFillColorAlpha(3, opacity);\n",
    "    hist.GetListOfFunctions().Add(rect10);\n",
    "    x1 = -5.0;\n",
    "    y1 = -55.0;\n",
    "    x2 = 5.0;\n",
    "    y2 = -65.0;\n",
    "    opacity = 0.9;\n",
    "    rect11 = root.TBox(x1, y1, x2, y2);\n",
    "    rect11.SetFillColorAlpha(3, opacity);\n",
    "    hist.GetListOfFunctions().Add(rect11);\n",
    "    x1 = 25.0;\n",
    "    y1 = -85.0;\n",
    "    x2 = 35.0;\n",
    "    y2 = -95.0;\n",
    "    opacity = 0.9;\n",
    "    rect12 = root.TBox(x1, y1, x2, y2);\n",
    "    rect12.SetFillColorAlpha(3, opacity);\n",
    "    hist.GetListOfFunctions().Add(rect12);\n",
    "    x1 = 25.0;\n",
    "    y1 = 85.0;\n",
    "    x2 = 35.0;\n",
    "    y2 = 95.0;\n",
    "    opacity = 0.9;\n",
    "    rect13 = root.TBox(x1, y1, x2, y2);\n",
    "    rect13.SetFillColorAlpha(3, opacity);\n",
    "    hist.GetListOfFunctions().Add(rect13);"
   ],
   "outputs": [],
   "execution_count": 10
  },
  {
   "cell_type": "code",
   "metadata": {
    "tags": [],
    "ExecuteTime": {
     "end_time": "2024-07-31T17:43:36.502767Z",
     "start_time": "2024-07-31T17:43:36.395931Z"
    }
   },
   "source": [
    "def plotDetector(hist):\n",
    "    \n",
    "    opacity=0.2\n",
    "    x1 = 55.0\n",
    "    y1 = -61.6\n",
    "    x2 = -45.2\n",
    "    y2 = -8.74\n",
    "    rect1 = root.TBox(x1, y1, x2, y2)\n",
    "    rect1.SetFillColorAlpha(2, opacity)\n",
    "    hist.GetListOfFunctions().Add(rect1)\n",
    "    x1 = 55.0\n",
    "    y1 = -8.74\n",
    "    x2 = -45.2\n",
    "    y2 = 44.14\n",
    "    rect2 = root.TBox(x1, y1, x2, y2)\n",
    "    rect2.SetFillColorAlpha(2, opacity)\n",
    "    hist.GetListOfFunctions().Add(rect2)\n",
    "    x1 = 62.5\n",
    "    y1 = -114.54\n",
    "    x2 = -37.7\n",
    "    y2 = -61.62\n",
    "    rect3 = root.TBox(x1, y1, x2, y2)\n",
    "    rect3.SetFillColorAlpha(2, opacity)\n",
    "    hist.GetListOfFunctions().Add(rect3)\n",
    "    x1 = 70.0\n",
    "    y1 = -167.46\n",
    "    x2 = -30.2\n",
    "    y2 = -114.54\n",
    "    rect4 = root.TBox(x1, y1, x2, y2);\n",
    "    rect4.SetFillColorAlpha(2, opacity)\n",
    "    hist.GetListOfFunctions().Add(rect4);\n",
    "    x1 = 62.5\n",
    "    y1 = 44.14\n",
    "    x2 = -37.7\n",
    "    y2 = 97.50\n",
    "    rect5 = root.TBox(x1, y1, x2, y2)\n",
    "    rect5.SetFillColorAlpha(2, opacity)\n",
    "    hist.GetListOfFunctions().Add(rect5)\n",
    "    x1 = 70.0\n",
    "    y1 = 97.50\n",
    "    x2 = -30.2\n",
    "    y2 = 150.0\n",
    "    rect6 = root.TBox(x1, y1, x2, y2)\n",
    "    rect6.SetFillColorAlpha(2, opacity)\n",
    "    hist.GetListOfFunctions().Add(rect6)"
   ],
   "outputs": [],
   "execution_count": 11
  },
  {
   "cell_type": "code",
   "metadata": {
    "tags": [],
    "ExecuteTime": {
     "end_time": "2024-07-31T17:43:41.311150Z",
     "start_time": "2024-07-31T17:43:36.503727Z"
    }
   },
   "source": [
    "# Canvas 33\n",
    "hAnaBarPMTTime_vs_ID = fdft.Histo2D((\"h1\", \"AnaBar Time vs ID\", 100, 0.0, 2500.0,100,0.0,20.0),'anaBarPMTID','anaBarPMTTime')\n",
    "hAnaBarPMTTime = fdft.Histo1D((\"h1\", \"AnaBar Time\", 100, 0.0, 13.0),'anaBarPMTTime')\n",
    "hAnaBarPMTTimeTop = fdft.Histo1D((\"h1\", \"AnaBar Time Top\", 100, 0.0, 13.0),'anaBarPMTTimeTop')\n",
    "hAnaBarPMTTimeBottom = fdft.Histo1D((\"h1\", \"AnaBar Time Bottom\", 100, 0.0, 13.0),'anaBarPMTTimeBottom')\n",
    "hAnaBarPMTTime_vs_Nphoton = fdft.Histo2D((\"h1\", \"AnaBar Time vs Nphotons\", 100, 0.0, 300.0,100,0.0,20.0),'anaBarPMTNPhotons','anaBarPMTTime')\n",
    "hAnaBarXZPMT = fdft.Histo2D((\"h1\",\"AnaBar XvsZPMT\",100,-100.0,100.0,100,-200,200),\"anaBarXPMT\",\"anaBarZPMT\");\n",
    "\n",
    "c33 = root.TCanvas(\"c33\",\"c33\",800,800)\n",
    "c33.Divide(3,2,0.01,0.01,0)\n",
    "\n",
    "c33.cd(1)\n",
    "hAnaBarPMTTime_vs_ID.Draw(\"COLZ\")\n",
    "c33.cd(2)\n",
    "hAnaBarPMTTime_vs_Nphoton.Draw(\"COLZ\")\n",
    "c33.cd(3)\n",
    "hAnaBarPMTTime.Draw()\n",
    "hAnaBarPMTTimeTop.Draw(\"SAME\")\n",
    "hAnaBarPMTTimeBottom.Draw(\"SAME\")\n",
    "c33.cd(4)\n",
    "hAnaBarPMTTimeTop.Draw()\n",
    "c33.cd(5)\n",
    "hAnaBarPMTTimeBottom.Draw()\n",
    "c33.cd(6)\n",
    "hAnaBarXZPMT.Draw(\"COLZ\")\n",
    "plotDetector(hAnaBarXZPMT)\n",
    "plotSinglePoints(hAnaBarXZPMT)\n",
    "\n",
    "c33.Draw()\n",
    "c33.Print(\"plots/c33.pdf\")\n"
   ],
   "outputs": [
    {
     "name": "stderr",
     "output_type": "stream",
     "text": [
      "Info in <TCanvas::Print>: pdf file plots/c33.pdf has been created\n"
     ]
    },
    {
     "data": {
      "image/png": "[encoded data removed]",
      "text/plain": [
       "<IPython.core.display.Image object>"
      ]
     },
     "metadata": {},
     "output_type": "display_data"
    }
   ],
   "execution_count": 12
  },
  {
   "cell_type": "code",
   "metadata": {
    "tags": [],
    "ExecuteTime": {
     "end_time": "2024-07-31T17:43:45.612269Z",
     "start_time": "2024-07-31T17:43:41.311950Z"
    }
   },
   "source": [
    "hAnaBarXZPMT = fdft.Histo2D((\"h1\",\"AnaBar XvsZPMT\",100,-100.0,100.0,100,-200,200),\"anaBarXPMT\",\"anaBarZPMT\")\n",
    "\n",
    "c34 = root.TCanvas(\"c34\",\"c34\",800,1600)\n",
    "c34.Divide(1,2,0.01,0.01,0)\n",
    "\n",
    "c34.cd(1)\n",
    "hAnaBarXZPMT.Draw(\"SURF1\")\n",
    "\n",
    "c34.cd(2)\n",
    "hAnaBarXZPMT.Draw(\"CONT1\")\n",
    "plotDetector(hAnaBarXZPMT)\n",
    "#plotSinglePoints(hAnaBarXZPMT);\n",
    "\n",
    "\n",
    "                  \n",
    "c34.Print(\"plots/c34.pdf\");"
   ],
   "outputs": [
    {
     "name": "stderr",
     "output_type": "stream",
     "text": [
      "Info in <TCanvas::Print>: pdf file plots/c34.pdf has been created\n"
     ]
    },
    {
     "data": {
      "image/png": "[encoded data removed]",
      "text/plain": [
       "<IPython.core.display.Image object>"
      ]
     },
     "metadata": {},
     "output_type": "display_data"
    }
   ],
   "execution_count": 13
  },
  {
   "cell_type": "code",
   "metadata": {
    "tags": [],
    "jupyter": {
     "is_executing": true
    }
   },
   "source": [
    "# Canvas 3\n",
    "\n",
    "hDetectorNhits = fdft.Histo1D('Detector_Nhits')\n",
    "hDetectorPdg = fdft.Histo1D('anaBarPDG')\n",
    "hDetectorID = fdft.Histo1D('anaBarID')\n",
    "hFingerPdg = fdft.Histo1D('fingerPDG')\n",
    "hFingerID = fdft.Histo1D('fingerID')\n",
    "hPMTID = fdft.Histo1D('PMT_id')\n",
    "hAnaBarPMTID = fdft.Histo1D('anaBarPMTID')\n",
    "hFingerPMTID = fdft.Histo1D('fingerPMTID')\n",
    "hAnaBarPMTTime = fdft.Histo1D('anaBarPMTTime')\n",
    "\n",
    "c3 = root.TCanvas(\"c3\",\"c3\",800,800)\n",
    "c3.Divide(3,3,0.01,0.01,0)\n",
    "\n",
    "c3.cd(1)\n",
    "hDetectorNhits.Draw()\n",
    "c3.cd(2)\n",
    "hFingerPdg.Draw()\n",
    "c3.cd(3)\n",
    "hDetectorPdg.Draw()\n",
    "c3.cd(4)\n",
    "hFingerID.Draw()\n",
    "c3.cd(5)\n",
    "hDetectorID.Draw()\n",
    "c3.cd(6)\n",
    "##hPMTID.GetXaxis().SetRangeUser(0,14)\n",
    "hPMTID.Draw()\n",
    "c3.cd(7)\n",
    "hFingerPMTID.Draw()\n",
    "c3.cd(8)\n",
    "hAnaBarPMTID.Draw()\n",
    "c3.cd(9)\n",
    "hAnaBarPMTTime.Draw()\n",
    "\n",
    "c3.Draw()\n",
    "c3.Print(\"plots/c3.pdf\")\n"
   ],
   "outputs": [],
   "execution_count": null
  },
  {
   "cell_type": "code",
   "metadata": {
    "tags": [],
    "jupyter": {
     "is_executing": true
    }
   },
   "source": [
    "# Canvas 4\n",
    "\n",
    "hFingerEd = fdft.Histo1D((\"h1\", \"Finger EDep\", 100, 0.0, 10.0),'fingerEd')\n",
    "hFingerPMTNphot = fdft.Histo1D((\"h1\", \"Finger Npe\", 100, 0.1, 100.0),'fingerPMTNPhotons')\n",
    "hAnaBarPMTNphot = fdft.Histo1D((\"h1\", \"AnaBar Npe\", 100, 0.1, 200.0),'anaBarPMTNPhotons')\n",
    "hAnaBarEd = fdft.Histo1D((\"h1\", \"AnaBar Edep\", 100, 0.0, 10.0),'anaBarEd')\n",
    "\n",
    "c4 = root.TCanvas(\"c4\",\"c4\",800,800)\n",
    "\n",
    "c4.cd()\n",
    "pad = root.TPad(\"pad\",\"pad\",0.01,0.51,0.50,0.99)\n",
    "pad.Draw()\n",
    "pad.cd()\n",
    "hFingerEd.GetXaxis().SetRangeUser(1.0,10)\n",
    "hFingerEd.Draw();\n",
    "\n",
    "c4.cd()\n",
    "pad = root.TPad(\"pad\",\"pad\",0.51,0.51,0.99,0.99)\n",
    "pad.Draw()\n",
    "pad.cd()\n",
    "hFingerPMTNphot.GetXaxis().SetRangeUser(-10,250)\n",
    "hFingerPMTNphot.Draw()\n",
    "\n",
    "c4.cd()\n",
    "pad = root.TPad(\"pad\",\"pad\",0.01,0.01,0.50,0.50)\n",
    "#pad.SetLogy()\n",
    "pad.Draw()\n",
    "pad.cd()\n",
    "hAnaBarEd.GetXaxis().SetRangeUser(1.0,10)\n",
    "hAnaBarEd.Draw();\n",
    "\n",
    "c4.cd()\n",
    "pad = root.TPad(\"pad\",\"pad\",0.51,0.01,0.99,0.50)\n",
    "#pad.SetLogy()\n",
    "pad.Draw()\n",
    "pad.cd()\n",
    "hAnaBarPMTNphot.GetXaxis().SetRangeUser(-20,180)\n",
    "hAnaBarPMTNphot.Draw()\n",
    "\n",
    "c4.Draw()\n",
    "c4.Print(\"plots/c4.pdf\")"
   ],
   "outputs": [],
   "execution_count": null
  },
  {
   "cell_type": "code",
   "metadata": {
    "tags": [],
    "jupyter": {
     "is_executing": true
    }
   },
   "source": [
    "# Canvas 5\n",
    "\n",
    "hAnaBarX = fdft.Histo1D((\"h1\", \"AnaBar X\", 100, -800.0, 800.0),'anaBarXVec')\n",
    "hAnaBarY = fdft.Histo1D((\"h1\", \"AnaBar Y\", 100, -400.0, 100.0),'anaBarYVec')\n",
    "hAnaBarZ = fdft.Histo1D((\"h1\", \"AnaBar Z\", 100, -2000.0, 2000.0),'anaBarZVec')\n",
    "hAnaBarT = fdft.Histo1D((\"h1\", \"AnaBar T\", 100, 0.0, 10.0),'anaBarTVec')\n",
    "\n",
    "c5 = root.TCanvas(\"c5\",\"c5\",800,800)\n",
    "c5.Divide(2,2,0.01,0.01,0)\n",
    "\n",
    "c5.cd(1)\n",
    "hAnaBarX.Draw()\n",
    "c5.cd(2)\n",
    "hAnaBarY.Draw()\n",
    "c5.cd(3)\n",
    "hAnaBarZ.Draw()\n",
    "c5.cd(4)\n",
    "hAnaBarT.Draw()\n",
    "\n",
    "c5.Draw()\n",
    "c5.Print(\"plots/c5.pdf\");"
   ],
   "outputs": [],
   "execution_count": null
  },
  {
   "cell_type": "code",
   "metadata": {
    "jupyter": {
     "is_executing": true
    }
   },
   "source": [],
   "outputs": [],
   "execution_count": null
  },
  {
   "cell_type": "code",
   "metadata": {
    "tags": [],
    "jupyter": {
     "is_executing": true
    }
   },
   "source": [
    "hE1vsE2 = fdft.Histo2D((\"h2\", \"E1 vs E2\", 100, 0.01, 3.0, 100, 0.01, 30.0),\"fingerEd\",\"anaBarEdTotal\")\n",
    "\n",
    "c6 = root.TCanvas(\"c6\", \"c6\", 800, 800)\n",
    "c6.Divide(1,1, 0.01, 0.01, 0)\n",
    "\n",
    "c6.cd(1)\n",
    "hE1vsE2.Draw(\"COLZ\")\n",
    "\n",
    "c6.Draw()\n",
    "c6.Print(\"plots/c6.pdf\")"
   ],
   "outputs": [],
   "execution_count": null
  },
  {
   "cell_type": "code",
   "metadata": {
    "tags": [],
    "jupyter": {
     "is_executing": true
    }
   },
   "source": [
    "hFinger_Edep_vs_Nphot = fdft.Filter(\"trigger2\").Histo2D((\"h3\", \"Finger Edep vs Nphot\", 100, 0.01, 200.0, 100, 0.01, 3.0),\"fingerPMTNPhotons\",\"fingerEd\")\n",
    "hAnaBar_Edep_vs_Nphot = fdft.Filter(\"trigger2\").Histo2D((\"h4\", \"AnaBar Edep vs NphotTotal\", 100, 0.01, 30.0, 100, 0.01, 500.0),\"anaBarEdTotal\",\"anaBarNPhotonsTotal\")\n",
    "hNphot0_vs_Nphot = fdft.Filter(\"trigger2\").Histo2D((\"h5\", \"AnaBar NphotTotal vs Finger Nphot\", 100, 0.01, 500.0, 100, 0.01, 200.0),\"anaBarNPhotonsTotal\",\"fingerPMTNPhotons\")\n",
    "\n",
    "c7 = root.TCanvas(\"c7\", \"c7\", 800, 800)\n",
    "c7.Divide(2,2, 0.01, 0.01, 0)\n",
    "\n",
    "#c7PE_MeV = root.TCanvas(\"c7PE_MeV\", \"c7PE_MeV\", 800,800)\n",
    "#c7Profile = root.TCanvas(\"c7Profile\", \"c7Profile\", 800,800)\n",
    "\n",
    "c7.cd(1)\n",
    "hFinger_Edep_vs_Nphot.Draw(\"COLZ\")\n",
    "c7.cd(2)\n",
    "hAnaBar_Edep_vs_Nphot.Draw(\"COLZ\")\n",
    "c7.cd(3)\n",
    "hNphot0_vs_Nphot.Draw(\"COLZ\")\n",
    "c7.cd(4)\n",
    "prof = hAnaBar_Edep_vs_Nphot.ProfileX()\n",
    "prof.Fit(\"pol1\")"
   ],
   "outputs": [],
   "execution_count": null
  },
  {
   "cell_type": "code",
   "metadata": {
    "tags": [],
    "jupyter": {
     "is_executing": true
    }
   },
   "source": [
    "c7.Draw()\n",
    "c7.Print(\"plots/c7.pdf\")"
   ],
   "outputs": [],
   "execution_count": null
  },
  {
   "cell_type": "code",
   "metadata": {
    "tags": [],
    "jupyter": {
     "is_executing": true
    }
   },
   "source": [
    "hFinger_Edep_vs_NphotCut = fdft.Filter(\"trigger3\").Histo2D((\"h3\", \"Finger Edep vs Nphot\", 100, 0.01, 200.0, 100, 0.01, 3.0),\"fingerPMTNPhotons\",\"fingerEd\")\n",
    "hAnaBar_Edep_vs_NphotCut = fdft.Filter(\"trigger3\").Histo2D((\"h4\", \"AnaBar Edep vs Nphot\", 100, 0.01, 30.0, 100, 0.01, 500.0),\"anaBarEdTotal\",\"anaBarNPhotonsTotal\")\n",
    "hNphot0_vs_Nphot1Cut = fdft.Filter(\"trigger3\").Histo2D((\"h5\", \"AnaBar Nphot vs Finger Nphot\", 100, 0.01, 500.0, 100, 0.01, 200.0),\"anaBarNPhotonsTotal\",\"fingerPMTNPhotons\")\n",
    "\n",
    "c8 = root.TCanvas(\"c8\", \"c8\", 800, 800)\n",
    "c8.Divide(2,2, 0.01, 0.01, 0)\n",
    "\n",
    "#c7PE_MeV = root.TCanvas(\"c7PE_MeV\", \"c7PE_MeV\", 800,800)\n",
    "#c7Profile = root.TCanvas(\"c7Profile\", \"c7Profile\", 800,800)\n",
    "\n",
    "c8.cd(1)\n",
    "hFinger_Edep_vs_NphotCut.Draw(\"COLZ\")\n",
    "c8.cd(2)\n",
    "hAnaBar_Edep_vs_NphotCut.Draw(\"COLZ\")\n",
    "c8.cd(3)\n",
    "hNphot0_vs_Nphot1Cut.Draw(\"COLZ\")\n",
    "c8.cd(4)\n",
    "prof = hAnaBar_Edep_vs_NphotCut.ProfileX()\n",
    "prof.Fit(\"pol1\")"
   ],
   "outputs": [],
   "execution_count": null
  },
  {
   "cell_type": "code",
   "metadata": {
    "tags": [],
    "jupyter": {
     "is_executing": true
    }
   },
   "source": [
    "c8.Draw()\n",
    "c8.Print(\"plots/c8.pdf\")"
   ],
   "outputs": [],
   "execution_count": null
  },
  {
   "cell_type": "code",
   "metadata": {
    "tags": [],
    "jupyter": {
     "is_executing": true
    }
   },
   "source": [
    "#NUMPADDLE=14\n",
    "#\n",
    "#hAnaBarEdAll = []\n",
    "#\n",
    "#for i in range(NUMPADDLE):\n",
    "#    name = (\"AnaBarEd%d\" % i)\n",
    "#    title = (\"AnaBar Energy Deposited A%d\" % i)\n",
    "#    name2 = (\"anaBarEd[%d]\" %i)\n",
    "#    hAnaBarEdAll.append(fdft.Define(name,name2).Filter(\"trigger3\").Histo1D((name, title, 100, 0.01, 10.0),name))\n",
    "#    \n",
    "#hAnaBarEdAllCut = []\n",
    "#\n",
    "#for i in range(NUMPADDLE):\n",
    "#    name = (\"AnaBarEd%dCut\" % i)\n",
    "#    title = (\"AnaBar Energy Deposited A%d\" % i)\n",
    "#    name2 = (\"anaBarEd[%d]\" %i)\n",
    "#    name3 = (\"trigger3 && anaBarPMTNPhotons[%d]>100.0\" % i)\n",
    "#    hAnaBarEdAllCut.append(fdft.Define(name,name2).Filter(name3).Histo1D((name, title, 100, 0.01, 10.0),name))\n",
    "#\n",
    "#cEd = root.TCanvas(\"cEd\", \"cEd\", 800,800)\n",
    "#cEd.Divide(4,4)\n",
    "#\n",
    "#means = []\n",
    "#meanErr = []\n",
    "#\n",
    "#start = 5.5\n",
    "#gf = root.TF1(\"gf\", \"gaus\", start, 10.0)\n",
    "#\n",
    "#for i in range(NUMPADDLE):\n",
    "#    \n",
    "#    print (\"Paddle = \",i+1)\n",
    "#\n",
    "#    cEd.cd(i+1)\n",
    "#    \n",
    "#    hAnaBarEdAll[i].Draw()\n",
    "#    hAnaBarEdAllCut[i].SetLineColor(2)\n",
    "#    hAnaBarEdAllCut[i].Draw(\"SAME\")\n",
    "#    \n",
    "#cEd.Draw()\n",
    "#cEd.Print(\"plots/cEdRA.pdf\")"
   ],
   "outputs": [],
   "execution_count": null
  },
  {
   "cell_type": "code",
   "metadata": {
    "tags": [],
    "jupyter": {
     "is_executing": true
    }
   },
   "source": [
    "#hAnaBarPMTNphotArray = []\n",
    "#\n",
    "#for i in range(NUMPADDLE):  \n",
    "#    name = (\"AnaBarPMTNphotA%d\" % i)\n",
    "#    title = (\"AnaBar_PMT_Number_of_Photons_A%d\" % i)\n",
    "#    name2 = (\"anaBarPMTNPhotons[%d]\" % i)\n",
    "#    hAnaBarPMTNphotArray.append(fdft.Define(name,name2).Filter(\"trigger\").Histo1D((name, title, 200, -20, 180.0),name))\n",
    "#    \n",
    "#hAnaBarPMTNphotCut = []\n",
    "#    \n",
    "#for i in range(NUMPADDLE):  \n",
    "#    name = (\"AnaBarPMTNphotA%dCut\" % i)\n",
    "#    title = (\"AnaBar_PMT_Number_of_Photons_A%d_Cut\" % i)\n",
    "#    name2 = (\"anaBarPMTNPhotons[%d]\" % i)\n",
    "#    hAnaBarPMTNphotCut.append(fdft.Define(name,name2).Filter(\"trigger3\").Histo1D((name, title, 200, -20, 180.0),name))\n",
    "#    \n",
    "#hAnaBarPMTNoiseCutNphot = []\n",
    "#\n",
    "#for i in range(NUMPADDLE):\n",
    "#    name = (\"AnaBarPMTNoiseCutNphotA%d\" % i)\n",
    "#    title = (\"AnaBar PMT Number of Photons A%d\" % i)\n",
    "#    name2 = (\"anaBarPMTNPhotons[%d]\" % i)\n",
    "#    name3 = (\"trigger3 && anaBarEd[%d]>4.0\" % i)\n",
    "#    hAnaBarPMTNoiseCutNphot.append(fdft.Define(name,name2).Filter(name3).Histo1D((name, title, 200, -20, 180.0),name))\n",
    "#\n",
    "#c9 = root.TCanvas(\"c9\", \"c9\", 800,800)\n",
    "#\n",
    "#print(\"Fitting ...\\n\")\n",
    "#fr = [float, float]\n",
    "#fp, fpe = [float, float, float, float], [float, float, float, float]\n",
    "#pllo = [0.05, 0.5, 1.0, 0.04]\n",
    "#plhi = [10.0, 50.0, 10000.0, 5.0]\n",
    "#sv = [1.8, 5.0, 1400.0, 3.0]\n",
    "#chisqr = float\n",
    "#ndf = int\n",
    "#SNRPeak, SNRFWHM = float, float\n",
    "#\n",
    "#\n",
    "#for i in range(NUMPADDLE):\n",
    "#        c9.cd()\n",
    "#        xl = 0.25*(i%4)\n",
    "#        xh = 0.25*(i%4)+0.25\n",
    "#        yl = 0.75 - 0.25*int(i/4)\n",
    "#        yh = 0.75 - 0.25*int(i/4) + 0.25\n",
    "#        #print (i,xl,yl,xh,yh)\n",
    "#        pad = root.TPad(\"pad\",\"pad\",xl,yl,xh,yh)\n",
    "#        pad.SetLogy(True)\n",
    "#        pad.Draw()\n",
    "#        pad.cd()\n",
    "#        hAnaBarPMTNphotArray[i].Draw()\n",
    "#        hAnaBarPMTNoiseCutNphot[i].SetLineColor(2)\n",
    "#        hAnaBarPMTNoiseCutNphot[i].Draw(\"SAME\")\n",
    "#        #hAnaBarPMTNoiseCutNphot[i].Fit(\"gaus\")"
   ],
   "outputs": [],
   "execution_count": null
  },
  {
   "cell_type": "code",
   "metadata": {
    "tags": [],
    "jupyter": {
     "is_executing": true
    }
   },
   "source": [
    "#c9.Draw()\n",
    "#c9.Print(\"plots/c9.pdf\")"
   ],
   "outputs": [],
   "execution_count": null
  },
  {
   "cell_type": "code",
   "metadata": {
    "tags": [],
    "jupyter": {
     "is_executing": true
    }
   },
   "source": [],
   "outputs": [],
   "execution_count": null
  },
  {
   "cell_type": "code",
   "metadata": {
    "tags": [],
    "jupyter": {
     "is_executing": true
    }
   },
   "source": [
    "hAnaBarMult = fdft.Histo1D((\"h1\", \"CDet Multiplicity\", 20, 0, 20),\"imult\")\n",
    "\n",
    "c11 = root.TCanvas(\"c11\", \"c11\", 800,800)\n",
    "c11.Divide(1,1, 0.01, 0.01, 0)\n",
    "\n",
    "c11.cd(1)\n",
    "hAnaBarMult.Draw()\n",
    "\n",
    "c11.Draw()\n",
    "c11.Print(\"plots/c11.pdf\")"
   ],
   "outputs": [],
   "execution_count": null
  },
  {
   "cell_type": "code",
   "metadata": {
    "tags": [],
    "jupyter": {
     "is_executing": true
    }
   },
   "source": [
    "\n",
    "hPrimPx = fdft.Histo1D((\"h1\", \"Px\", 100, -1000, 1000),\"fPx\")\n",
    "hPrimPy = fdft.Histo1D((\"h1\", \"Px\", 100, -8000, 1000),\"fPy\")\n",
    "hPrimPz = fdft.Histo1D((\"h1\", \"Px\", 100, -2000, 2000),\"fPz\")\n",
    "\n",
    "c12 = root.TCanvas(\"c12\", \"c12\", 800,800)\n",
    "c12.Divide(2,2, 0.01, 0.01, 0)\n",
    "\n",
    "c12.cd(1)\n",
    "hPrimPx.Draw()\n",
    "c12.cd(2)\n",
    "hPrimPy.Draw()\n",
    "c12.cd(3)\n",
    "hPrimPz.Draw()\n",
    "\n",
    "c12.Draw()\n",
    "c12.Print(\"plots/c12.pdf\")"
   ],
   "outputs": [],
   "execution_count": null
  },
  {
   "cell_type": "code",
   "metadata": {
    "tags": [],
    "jupyter": {
     "is_executing": true
    }
   },
   "source": [],
   "outputs": [],
   "execution_count": null
  },
  {
   "cell_type": "code",
   "metadata": {
    "tags": [],
    "jupyter": {
     "is_executing": true
    }
   },
   "source": [
    "hPx_vs_x = fdft.Filter(\"trigger2\").Histo2D((\"h33\", \"G4SBS Px vs x\", 100, -800.0, 800.0, 100, -800.0, 800.0),\"anaBarXVec\",\"fPx\");\n",
    "hPz_vs_z = fdft.Filter(\"trigger2\").Histo2D((\"h34\", \"G4SBS Pz vs z\", 100, -2400.0, 2400.0, 100, -2400.0, 2400.0),\"anaBarZVec\",\"fPz\");\n",
    "hz_vs_x = fdft.Filter(\"trigger2\").Histo2D((\"h35\", \"CDet z vs x\", 100, -800.0, 800.0, 100, -2400.0, 2400.0),\"anaBarXVec\",\"anaBarZVec\");\n",
    "hPrimXZ = fdft.Histo2D((\"h99\", \"G4SBS z vs x\", 100, -80.0, 80.0, 100, -240.0, 240.0),\"Prim_X\",\"Prim_Z\");\n",
    "    \n",
    "c13 = root.TCanvas(\"c13\", \"c13\", 800, 800)\n",
    "c13.Divide(2,2, 0.01, 0.01, 0)\n",
    "\n",
    "c13.cd(1)\n",
    "hPx_vs_x.Draw(\"COLZ\")\n",
    "c13.cd(2)\n",
    "hPz_vs_z.Draw(\"COLZ\")\n",
    "c13.cd(3)\n",
    "hz_vs_x.Draw(\"COLZ\")\n",
    "c13.cd(4)\n",
    "plotDetector(hPrimXZ);\n",
    "hPrimXZ.Draw('COLZ')\n",
    "\n",
    "\n",
    "c13.Draw()\n",
    "c3.Print(\"plots/c13.pdf\")"
   ],
   "outputs": [],
   "execution_count": null
  },
  {
   "cell_type": "code",
   "metadata": {
    "tags": [],
    "jupyter": {
     "is_executing": true
    }
   },
   "source": [
    "# Canvas 14\n",
    "hPrimX = fdft.Histo1D((\"h99\",\"X_vtx\", 100, -80,80),\"Prim_X\")\n",
    "hPrimY = fdft.Histo1D((\"h99\",\"Y_vtx\", 100, 0,40),\"Prim_Y\")\n",
    "hPrimZ = fdft.Histo1D((\"h99\",\"Z_vtx\", 100, -200,200),\"Prim_Z\")\n",
    "hPrimXZ = fdft.Histo2D((\"h99\", \"z vs z\", 100, -80.0, 80.0, 100, -240.0, 240.0),\"Prim_X\",\"Prim_Z\")\n",
    "\n",
    "c14 = root.TCanvas(\"c14\",\"c14\",800,800)\n",
    "c14.Divide(2,2,0.01,0.01,0)\n",
    "\n",
    "c14.cd(1)\n",
    "hPrimX.Draw()\n",
    "c14.cd(2)\n",
    "hPrimY.Draw()\n",
    "c14.cd(3)\n",
    "hPrimZ.Draw()\n",
    "c14.cd(4)\n",
    "hPrimXZ.Draw('COLZ')\n",
    "\n",
    "c14.Draw()\n",
    "c14.Print(\"plots/c14.pdf\")"
   ],
   "outputs": [],
   "execution_count": null
  },
  {
   "cell_type": "code",
   "metadata": {
    "tags": [],
    "jupyter": {
     "is_executing": true
    }
   },
   "source": [
    "hPx_vs_x = fdft.Filter(\"trigger2\").Histo2D((\"h33\", \"Px vs x\", 100, -80.0, 80.0, 100, -1.0, 1.0),\"anaBarXPMT\",\"anaBarPXPMT\");\n",
    "hPz_vs_z = fdft.Filter(\"trigger2\").Histo2D((\"h34\", \"Pz vs z\", 100, -240.0, 240.0, 100, -1.0, 1.0),\"anaBarZPMT\",\"anaBarPZPMT\");\n",
    "hz_vs_x = fdft.Filter(\"trigger2\").Histo2D((\"h35\", \"z vs x\", 100, -80.0, 80.0, 100, -240.0, 240.0),\"anaBarXPMT\",\"anaBarZPMT\");\n",
    "hPrimXZ = fdft.Histo2D((\"h99\", \"z vs z\", 100, -80.0, 80.0, 100, -240.0, 240.0),\"Prim_X\",\"Prim_Z\");\n",
    "\n",
    "\n",
    "\n",
    "c15 = root.TCanvas(\"c15\",\"c15\",800,800);\n",
    "c15.Divide(2,2,0.01,0.01,0);\n",
    "\n",
    "c15.cd(1);\n",
    "hPx_vs_x.Draw(\"COLZ\");\n",
    "c15.cd(2);\n",
    "hPz_vs_z.Draw(\"COLZ\");\n",
    "c15.cd(3);\n",
    "hz_vs_x.Draw(\"COLZ\");\n",
    "plotDetector(hz_vs_x);\n",
    "c15.cd(4);\n",
    "hPrimXZ.Draw(\"COLZ\");\n",
    "plotDetector(hPrimXZ);\n",
    "\n",
    "c15.Draw();\n",
    "c15.Print(\"plots/c15.pdf\");"
   ],
   "outputs": [],
   "execution_count": null
  },
  {
   "cell_type": "code",
   "metadata": {
    "tags": [],
    "jupyter": {
     "is_executing": true
    }
   },
   "source": [
    "hx_vs_x = fdft.Filter(\"trigger2\").Histo2D((\"h33\", \"X vs XPMT\", 100, -80.0, 80.0, 100, -80.0, 80.0),\"anaBarXPMT\",\"Prim_X\");\n",
    "hz_vs_z = fdft.Filter(\"trigger2\").Histo2D((\"h34\", \"Z vs ZPMT\", 100, -240.0, 240.0, 100, -240.0, 240.0),\"anaBarZPMT\",\"Prim_Z\");\n",
    "hPx_vs_Px = fdft.Filter(\"trigger2\").Histo2D((\"h35\", \"Px vs PxPMT\", 100, -1.0, 1.0, 100, -800.0, 800.0),\"anaBarPXPMT\",\"fPx\");\n",
    "hPz_vs_Pz = fdft.Filter(\"trigger2\").Histo2D((\"h99\", \"Pz vs PzPMT\", 100, -0.6, 0.6, 100, -2400.0, 2400.0),\"anaBarPZPMT\",\"fPz\");\n",
    "\n",
    "c16 = root.TCanvas(\"c16\",\"c16\",800,800);\n",
    "c16.Divide(2,2,0.01,0.01,0);\n",
    "\n",
    "c16.cd(1);\n",
    "hx_vs_x.Draw(\"COLZ\");\n",
    "c16.cd(2);\n",
    "hz_vs_z.Draw(\"COLZ\");\n",
    "c16.cd(3);\n",
    "hPx_vs_Px.Draw(\"COLZ\");\n",
    "c16.cd(4);\n",
    "hPz_vs_Pz.Draw(\"COLZ\");\n",
    "\n",
    "c16.Draw();\n",
    "c16.Print(\"plots/c16.pdf\");"
   ],
   "outputs": [],
   "execution_count": null
  },
  {
   "cell_type": "code",
   "metadata": {
    "tags": [],
    "jupyter": {
     "is_executing": true
    }
   },
   "source": [
    "t.stop()"
   ],
   "outputs": [],
   "execution_count": null
  },
  {
   "cell_type": "code",
   "execution_count": null,
   "metadata": {},
   "outputs": [],
   "source": []
  }
 ],
 "metadata": {
  "kernelspec": {
   "display_name": "Python 3 (ipykernel)",
   "language": "python",
   "name": "python3"
  },
  "language_info": {
   "codemirror_mode": {
    "name": "ipython",
    "version": 3
   },
   "file_extension": ".py",
   "mimetype": "text/x-python",
   "name": "python",
   "nbconvert_exporter": "python",
   "pygments_lexer": "ipython3",
   "version": "3.12.1"
  }
 },
 "nbformat": 4,
 "nbformat_minor": 4
}
