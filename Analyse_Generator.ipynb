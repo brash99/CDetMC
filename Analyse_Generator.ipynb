{
 "cells": [
  {
   "cell_type": "code",
   "execution_count": 1,
   "metadata": {
    "tags": []
   },
   "outputs": [
    {
     "name": "stdout",
     "output_type": "stream",
     "text": [
      "Welcome to JupyROOT 6.26/06\n"
     ]
    }
   ],
   "source": [
    "import ROOT as root\n",
    "import numpy as np\n",
    "import matplotlib.pyplot as plt\n",
    "import pandas as pd\n",
    "import random"
   ]
  },
  {
   "cell_type": "code",
   "execution_count": 2,
   "metadata": {
    "tags": []
   },
   "outputs": [
    {
     "name": "stdout",
     "output_type": "stream",
     "text": [
      "TFile**\t\tbatch/data/AnaBarMC_Gen_7001.root\tfROOTfile\n",
      " TFile*\t\tbatch/data/AnaBarMC_Gen_7001.root\tfROOTfile\n",
      "  KEY: TTree\th1;1\tGenerator Output Tree\n",
      "======> EVENT:50\n",
      " X_vtx           = -2.99748\n",
      " Y_vtx           = 25\n",
      " Z_vtx           = -153.179\n",
      " Px_p            = 29.6235\n",
      " Py_p            = -2907.28\n",
      " Pz_p            = 204.622\n",
      " En_p            = 2916.54\n",
      " Mass            = 105.658\n",
      " PDG             = 13\n"
     ]
    }
   ],
   "source": [
    "f = root.TFile(\"batch/data/AnaBarMC_Gen_7001.root\")\n",
    "f.ls()\n",
    "\n",
    "myTree = f.Get(\"h1\")\n",
    "\n",
    "entries = myTree.GetEntriesFast()\n",
    "\n",
    "myTree.Show(50)"
   ]
  },
  {
   "cell_type": "code",
   "execution_count": 3,
   "metadata": {
    "tags": []
   },
   "outputs": [
    {
     "name": "stdout",
     "output_type": "stream",
     "text": [
      "TFile**\t\tbatch/data/AnaBarMC_Gen_7002.root\tfROOTfile\n",
      " TFile*\t\tbatch/data/AnaBarMC_Gen_7002.root\tfROOTfile\n",
      "  KEY: TTree\th1;1\tGenerator Output Tree\n",
      "======> EVENT:50\n",
      " X_vtx           = 6.77067\n",
      " Y_vtx           = 25\n",
      " Z_vtx           = -160.453\n",
      " Px_p            = 13.3847\n",
      " Py_p            = -2019.87\n",
      " Pz_p            = 92.4537\n",
      " En_p            = 2024.79\n",
      " Mass            = 105.658\n",
      " PDG             = 13\n"
     ]
    }
   ],
   "source": [
    "f = root.TFile(\"batch/data/AnaBarMC_Gen_7002.root\")\n",
    "f.ls()\n",
    "\n",
    "myTree = f.Get(\"h1\")\n",
    "\n",
    "entries = myTree.GetEntriesFast()\n",
    "\n",
    "myTree.Show(50)"
   ]
  },
  {
   "cell_type": "code",
   "execution_count": 4,
   "metadata": {
    "tags": []
   },
   "outputs": [
    {
     "name": "stdout",
     "output_type": "stream",
     "text": [
      "TFile**\t\tbatch/data/AnaBarMC_Gen_7003.root\tfROOTfile\n",
      " TFile*\t\tbatch/data/AnaBarMC_Gen_7003.root\tfROOTfile\n",
      "  KEY: TTree\th1;1\tGenerator Output Tree\n",
      "======> EVENT:50\n",
      " X_vtx           = -6.95449\n",
      " Y_vtx           = 25\n",
      " Z_vtx           = -309.818\n",
      " Px_p            = 62.7804\n",
      " Py_p            = -3026.86\n",
      " Pz_p            = 433.651\n",
      " En_p            = 3060.24\n",
      " Mass            = 105.658\n",
      " PDG             = 13\n"
     ]
    }
   ],
   "source": [
    "f = root.TFile(\"batch/data/AnaBarMC_Gen_7003.root\")\n",
    "f.ls()\n",
    "\n",
    "myTree = f.Get(\"h1\")\n",
    "\n",
    "entries = myTree.GetEntriesFast()\n",
    "\n",
    "myTree.Show(50)\n",
    "    \n",
    "    "
   ]
  },
  {
   "cell_type": "code",
   "execution_count": 5,
   "metadata": {
    "tags": []
   },
   "outputs": [
    {
     "name": "stdout",
     "output_type": "stream",
     "text": [
      "TFile**\t\tbatch/data/AnaBarMC_Gen_7004.root\tfROOTfile\n",
      " TFile*\t\tbatch/data/AnaBarMC_Gen_7004.root\tfROOTfile\n",
      "  KEY: TTree\th1;1\tGenerator Output Tree\n",
      "======> EVENT:50\n",
      " X_vtx           = 1.20794\n",
      " Y_vtx           = 25\n",
      " Z_vtx           = -318.098\n",
      " Px_p            = 64.5141\n",
      " Py_p            = -2987.89\n",
      " Pz_p            = 445.626\n",
      " En_p            = 3023.48\n",
      " Mass            = 105.658\n",
      " PDG             = 13\n"
     ]
    }
   ],
   "source": [
    "f = root.TFile(\"batch/data/AnaBarMC_Gen_7004.root\")\n",
    "f.ls()\n",
    "\n",
    "myTree = f.Get(\"h1\")\n",
    "\n",
    "entries = myTree.GetEntriesFast()\n",
    "\n",
    "myTree.Show(50)"
   ]
  },
  {
   "cell_type": "code",
   "execution_count": 5,
   "metadata": {},
   "outputs": [
    {
     "name": "stdout",
     "output_type": "stream",
     "text": [
      "TFile**\t\tbatch/data/AnaBarMC_Gen_9001.root\tfROOTfile\n",
      " TFile*\t\tbatch/data/AnaBarMC_Gen_9001.root\tfROOTfile\n",
      "  KEY: TTree\th1;1\tGenerator Output Tree\n",
      "======> EVENT:50\n",
      " X_vtx           = 3.74344\n",
      " Y_vtx           = 5\n",
      " Z_vtx           = -2.20249\n",
      " Px_p            = -799.757\n",
      " Py_p            = -2973.1\n",
      " Pz_p            = 360.341\n",
      " En_p            = 3238.69\n",
      " Mass            = 938.272\n",
      " PDG             = 2212\n"
     ]
    }
   ],
   "source": []
  },
  {
   "cell_type": "code",
   "execution_count": null,
   "metadata": {},
   "outputs": [],
   "source": []
  }
 ],
 "metadata": {
  "kernelspec": {
   "display_name": "Python 3 (ipykernel)",
   "language": "python",
   "name": "python3"
  },
  "language_info": {
   "codemirror_mode": {
    "name": "ipython",
    "version": 3
   },
   "file_extension": ".py",
   "mimetype": "text/x-python",
   "name": "python",
   "nbconvert_exporter": "python",
   "pygments_lexer": "ipython3",
   "version": "3.10.10"
  }
 },
 "nbformat": 4,
 "nbformat_minor": 4
}
